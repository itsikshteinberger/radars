{
 "cells": [
  {
   "cell_type": "markdown",
   "id": "portable-durham",
   "metadata": {},
   "source": [
    "# HMM Simulation"
   ]
  },
  {
   "cell_type": "code",
   "execution_count": 1,
   "id": "crazy-mailman",
   "metadata": {},
   "outputs": [],
   "source": [
    "import numpy as np"
   ]
  },
  {
   "cell_type": "markdown",
   "id": "classified-frequency",
   "metadata": {},
   "source": [
    "In the upcoming HMM simulation we are going to run a \"toy model\" that will answer two simple questions, given the mood of a certain person over n days (when we know that his mood is affected by the weather):\n",
    "1. What is the probability of getting such a mood series?\n",
    "2. What is the most likely weather series?"
   ]
  },
  {
   "cell_type": "markdown",
   "id": "binary-reaction",
   "metadata": {},
   "source": [
    "## Modeling\n",
    "First, here is a visual model that represents the transition probabilities between different states:\n",
    "<img src=\"model.png\" alt= “” width=\"500\" height=\"500\">\n",
    "\n",
    "\n",
    "When the moods will be marked with 0 for sad and 1 for happy and will be called \"observations\", and the weather will be marked with 0 for rain and 1 for sun and will be called \"states\".\n",
    "<br/><br/>\n",
    "The transition matrix between the states will be called A when $ A_{ij} $ is $ P(X_j|X_i)$ ,$X = \\{rain, sun\\}$, <br/>\n",
    "and the transition matrix between states & observations will be called A when $ B_{ij} $ is $ P(Y_j|X_i)$ ,$Y = \\{sad, happy\\}$."
   ]
  },
  {
   "cell_type": "code",
   "execution_count": 2,
   "id": "graduate-louisville",
   "metadata": {},
   "outputs": [],
   "source": [
    "A = np.array([ \n",
    "    [0.5,0.5],   \n",
    "    [0.3,0.7]   \n",
    "]) \n",
    "B = np.array([\n",
    "    [0.8,0.2],        \n",
    "    [0.4,0.6]    \n",
    "])"
   ]
  },
  {
   "cell_type": "markdown",
   "id": "functioning-light",
   "metadata": {},
   "source": [
    "pi is an array of probabilities when $ pi_i = P(X_i)$ and will be calculated using a Monte Carlo simulation that goes through the different situations a large number of times (the initial probability is completely random and can come in other forms)."
   ]
  },
  {
   "cell_type": "code",
   "execution_count": 3,
   "id": "dedicated-wrong",
   "metadata": {},
   "outputs": [],
   "source": [
    "pi = np.ones((A.shape[0]))/(A.shape[0])\n",
    "for i in range(100):\n",
    "    pi = pi @ A"
   ]
  },
  {
   "cell_type": "markdown",
   "id": "trying-polls",
   "metadata": {},
   "source": [
    "The sequence of the result is the observations on the person, in our case it is about three days where in the first two he was sad and on the last day he was happy."
   ]
  },
  {
   "cell_type": "code",
   "execution_count": 4,
   "id": "portable-russell",
   "metadata": {},
   "outputs": [],
   "source": [
    "resSeq = [0,0,1]"
   ]
  },
  {
   "cell_type": "markdown",
   "id": "simplified-letter",
   "metadata": {},
   "source": [
    "## Forward algorithm\n",
    "The forward algorithm is using to answer the first question (what is the probability of getting such a mood series?) and doing this by dynamic programming. <br/>\n",
    "We create $T_{|Observations|x|Num Of States|}$ matrix when $T_{ij}$ is the probability of receiving the sequence we entered before until day i, when the state in day i is j (and his symbol is $a_i(X_j)$). <br/><br/>\n",
    "These are the update rules:\n",
    "1. $a_1(X_i) = Pi[i]*P(observations_1 | X_i)$ \n",
    "2. $a_t(X_i) =  \\sum_{j=1}^{n} a_{t-1}(X_j)P(observations_t | X_i)P(X_i | X_j)$ \n",
    "3. $P(observations) = \\sum_{i=1}^{n} a_{t}(X_i)$"
   ]
  },
  {
   "cell_type": "code",
   "execution_count": 5,
   "id": "subtle-manchester",
   "metadata": {},
   "outputs": [],
   "source": [
    "Table = np.zeros((len(resSeq),A.shape[0]))\n",
    "\n",
    "#Initialization\n",
    "Table[0,:] = pi[:] * B[:,resSeq[0]]\n",
    "    \n",
    "#Update rules\n",
    "for t in range(1,Table.shape[0]):\n",
    "    for i in range(Table.shape[1]):\n",
    "        for j in range(Table.shape[1]):\n",
    "            Table[t,i] += Table[t-1,j]*A[j,i]*B[i,resSeq[t]] "
   ]
  },
  {
   "cell_type": "markdown",
   "id": "important-crystal",
   "metadata": {},
   "source": [
    "By the third rule we can compute $P(observations)$"
   ]
  },
  {
   "cell_type": "code",
   "execution_count": 6,
   "id": "romance-punishment",
   "metadata": {},
   "outputs": [
    {
     "data": {
      "text/plain": [
       "0.1343999999999999"
      ]
     },
     "execution_count": 6,
     "metadata": {},
     "output_type": "execute_result"
    }
   ],
   "source": [
    "np.sum(Table[-1,:])"
   ]
  },
  {
   "cell_type": "markdown",
   "id": "frank-villa",
   "metadata": {},
   "source": [
    "## Viterbi\n",
    "Viterbi algorithm is an algorithm we will use to answer the second question (what is the most likely weather series?).The algorithm will use two tables in size $|NumberOfStates|x|NumberOfObservations|$ when $T_{1ij}$ represents the probability of the best path to state i at time j and $T_{2ij}$ represents the last state j in time i that gives the best probability. <br/>\n",
    "The update rules are:\n",
    "1. $T_{1ij} = max_k(T_1[k,j-1]A_{ki})B_{iy_j}$\n",
    "2. $T_{1ij} = argmax_k(T_1[k,j-1]A_{ki})$\n",
    "\n",
    "Then we run backward detection to reach the row of the most probable hidden states."
   ]
  },
  {
   "cell_type": "code",
   "execution_count": 7,
   "id": "noble-asbestos",
   "metadata": {},
   "outputs": [],
   "source": [
    "#Initialization\n",
    "T1 = np.zeros((A.shape[0],len(resSeq)))\n",
    "T2 = np.zeros((A.shape[0],len(resSeq)))\n",
    "\n",
    "T1[:, 0] = pi * B[:, resSeq[0]]\n",
    "\n",
    "#Update rules\n",
    "for t in range(1, len(resSeq)):\n",
    "    for j in range(A.shape[0]):\n",
    "        val = T1[:, t - 1] * A[:, j]\n",
    "        T1[j, t] = B[j, resSeq[t]] * np.max(val)\n",
    "        T2[j, t] = np.argmax(val)\n",
    "        \n",
    "z_T = np.argmax(T1[:, len(resSeq) - 1])\n",
    "X = [0] * len(resSeq)\n",
    "X[-1] = z_T\n",
    "\n",
    "for t in range(len(resSeq) - 2, -1, -1):\n",
    "    z_t = T2[int(z_T), t + 1]\n",
    "    X[t] = int(z_t)\n",
    "    z_T = z_t"
   ]
  },
  {
   "cell_type": "markdown",
   "id": "adjusted-investment",
   "metadata": {},
   "source": [
    "And here we see that the most likely situation is two days of rain followed by a sunny day."
   ]
  },
  {
   "cell_type": "code",
   "execution_count": 8,
   "id": "global-florist",
   "metadata": {},
   "outputs": [
    {
     "data": {
      "text/plain": [
       "[0, 0, 1]"
      ]
     },
     "execution_count": 8,
     "metadata": {},
     "output_type": "execute_result"
    }
   ],
   "source": [
    "X"
   ]
  }
 ],
 "metadata": {
  "kernelspec": {
   "display_name": "Python 3",
   "language": "python",
   "name": "python3"
  },
  "language_info": {
   "codemirror_mode": {
    "name": "ipython",
    "version": 3
   },
   "file_extension": ".py",
   "mimetype": "text/x-python",
   "name": "python",
   "nbconvert_exporter": "python",
   "pygments_lexer": "ipython3",
   "version": "3.7.9"
  }
 },
 "nbformat": 4,
 "nbformat_minor": 5
}
