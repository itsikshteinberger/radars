{
  "cells": [
    {
      "cell_type": "code",
      "execution_count": null,
      "metadata": {
        "colab": {
          "base_uri": "https://localhost:8080/"
        },
        "id": "li6aohzzuAVG",
        "outputId": "e73fbaba-61b1-4dde-b791-49a1b6667fe2"
      },
      "outputs": [
        {
          "output_type": "stream",
          "name": "stdout",
          "text": [
            "Drive already mounted at /content/drive; to attempt to forcibly remount, call drive.mount(\"/content/drive\", force_remount=True).\n"
          ]
        }
      ],
      "source": [
        "from google.colab import drive\n",
        "drive.mount('/content/drive')\n",
        "\n",
        "import warnings\n",
        "warnings.filterwarnings('ignore')\n",
        "\n",
        "import scipy.io\n",
        "import numpy as np\n",
        "import matplotlib.pyplot as plt\n",
        "from sklearn.cluster import KMeans\n",
        "from IPython.display import clear_output\n",
        "from tqdm import tqdm\n",
        "import copy\n",
        "import tensorflow as tf\n",
        "from tensorflow.keras import regularizers\n",
        "from sklearn.model_selection import train_test_split\n",
        "from tabulate import tabulate\n",
        "from tensorflow.keras import layers\n",
        "from tensorflow.keras.callbacks import EarlyStopping\n",
        "\n",
        "%matplotlib inline\n",
        "\n",
        "Cartesian = lambda x,y: np.transpose([np.tile(x, len(y)), np.repeat(y, len(x))])\n",
        "AddZ = lambda x: np.concatenate((x, np.zeros((x.shape[0], x.shape[1], 1))), axis=2)"
      ]
    },
    {
      "cell_type": "code",
      "execution_count": null,
      "metadata": {
        "id": "nkEbs3zd7s-R"
      },
      "outputs": [],
      "source": [
        "def Freq(Data = None):\n",
        "  YantData = scipy.io.loadmat('/content/drive/MyDrive/AntData/YantData.mat')['YantData'].flatten()\n",
        "  res = np.array([YantData[i].shape[0] for i in range(YantData.shape[0])])\n",
        "  return res\n",
        "\n",
        "def Cluster(Z,Y,plot = False):\n",
        "    data = np.column_stack((Z, Y))\n",
        "    centers = Cartesian(np.array([-25,-8,8,25]),np.array([-25,-8,8,25]))\n",
        "    kmeans = KMeans(n_clusters=16, init=centers)\n",
        "    kmeans.fit(data)\n",
        "\n",
        "    labels = kmeans.labels_\n",
        "    centers = kmeans.cluster_centers_\n",
        "\n",
        "    if plot:\n",
        "      plt.figure(figsize=(12, 7))\n",
        "      plt.title(f\"Num of antennas: {Z.shape[0]}\")\n",
        "      plt.scatter(data[:, 0], data[:, 1], c=labels, cmap='viridis')\n",
        "      plt.scatter(centers[:, 0], centers[:, 1], marker='X',c='red', s=100, label='Centers')\n",
        "      plt.grid()\n",
        "      plt.show()\n",
        "\n",
        "    return data, labels\n",
        "\n",
        "def SmartPadding(Y,Z,i, flatten = True):\n",
        "  Y, Z = Y[i][0].flatten(),Z[i][0].flatten()\n",
        "  data, labels = Cluster(Z,Y)\n",
        "\n",
        "  pad_data = None\n",
        "\n",
        "  for l in range(16):\n",
        "    labeled_data = np.vstack((data[labels == l], np.zeros((64 - np.sum(labels == l), 2))))\n",
        "    pad_data = np.vstack((pad_data, labeled_data)) if pad_data is not None else labeled_data\n",
        "\n",
        "  if flatten:\n",
        "      return pad_data.flatten()\n",
        "  else:\n",
        "      return pad_data\n",
        "\n",
        "def NoPadding(Z,Y,i):\n",
        "    data = np.column_stack((np.squeeze(Z[i][0]), np.squeeze(Y[i][0])))\n",
        "    return data.flatten()\n",
        "\n",
        "def CreateData(mask = None):\n",
        "    #For 3D data please: 1. Change to faltten = False, 2. Add the Add Z function in the end of the return, 3. Shout loudly: kulululu!\n",
        "    YantData = scipy.io.loadmat('/content/drive/MyDrive/AntData/YantData.mat')['YantData']\n",
        "    ZantData = scipy.io.loadmat('/content/drive/MyDrive/AntData/ZantData.mat')['ZantData']\n",
        "\n",
        "    cost = scipy.io.loadmat('/content/drive/MyDrive/AntData/cost.mat')['cost'].squeeze()\n",
        "\n",
        "    freq = Freq(YantData)\n",
        "    if mask:\n",
        "      YantData,ZantData,cost = YantData[freq == mask],ZantData[freq == mask],cost[freq == mask]\n",
        "      data_list = [NoPadding(ZantData, YantData, i) for i in tqdm(range(ZantData.shape[0]))]\n",
        "    else:\n",
        "      data_list = [SmartPadding(ZantData, YantData, i, flatten = True) for i in tqdm(range(ZantData.shape[0]))]\n",
        "\n",
        "    del YantData\n",
        "    del ZantData\n",
        "\n",
        "    return np.array(data_list), cost\n",
        "\n",
        "def result(preds, reals):\n",
        "  N = preds.shape[0]\n",
        "\n",
        "  res = {'MPE':0,  '< 1%':0, '< 5%':0, '< 10%':0, '< 15%':0, '< 25%':0, '< 50%':0}\n",
        "\n",
        "\n",
        "  for pred, real in zip(preds, reals):\n",
        "    percentage_error = np.abs((pred - real)/ real) * 100\n",
        "    try:\n",
        "      res['MPE'] += (percentage_error / N)[0]\n",
        "    except:\n",
        "      res['MPE'] += (percentage_error / N)\n",
        "    for i in [1,5,10,15,25,50]:\n",
        "      res[f\"< {i}%\"] += 100 / N if percentage_error <= i else 0\n",
        "\n",
        "  return res\n",
        "\n",
        "result_table = lambda train_result, test_result: print(tabulate([['Train']+list(train_result.values()), ['Test']+list(test_result.values())], headers=list(train_result.keys()), tablefmt='pipe'))"
      ]
    },
    {
      "cell_type": "code",
      "source": [
        "dict(zip(np.unique(Freq(), return_counts = True)[0],np.unique(Freq(), return_counts = True)[1]))"
      ],
      "metadata": {
        "colab": {
          "base_uri": "https://localhost:8080/"
        },
        "id": "xN24R3vRokca",
        "outputId": "ce0fec19-777a-4232-e022-cea1acb8a4cf"
      },
      "execution_count": null,
      "outputs": [
        {
          "output_type": "execute_result",
          "data": {
            "text/plain": [
              "{800: 8400,\n",
              " 804: 24000,\n",
              " 808: 14400,\n",
              " 812: 13200,\n",
              " 816: 6000,\n",
              " 820: 3600,\n",
              " 824: 1200,\n",
              " 828: 2400,\n",
              " 832: 3600,\n",
              " 836: 2400,\n",
              " 840: 2400,\n",
              " 844: 1200,\n",
              " 848: 3600,\n",
              " 852: 3600,\n",
              " 856: 2400,\n",
              " 860: 3600,\n",
              " 864: 1200,\n",
              " 868: 2400,\n",
              " 872: 1200,\n",
              " 884: 1200,\n",
              " 888: 1200,\n",
              " 1024: 1}"
            ]
          },
          "metadata": {},
          "execution_count": 12
        }
      ]
    },
    {
      "cell_type": "code",
      "execution_count": null,
      "metadata": {
        "colab": {
          "base_uri": "https://localhost:8080/"
        },
        "id": "4oMWnb2K-c1P",
        "outputId": "1e2553e7-1dc3-4e21-f765-1c5f6a2a2c03"
      },
      "outputs": [
        {
          "output_type": "stream",
          "name": "stderr",
          "text": [
            "100%|██████████| 103201/103201 [04:14<00:00, 404.72it/s]\n"
          ]
        }
      ],
      "source": [
        "mask = None\n",
        "Data, cost = CreateData(mask = mask)\n",
        "\n",
        "\n",
        "# Split the data into training and testing sets\n",
        "X_train, X_test, y_train, y_test = train_test_split(Data, cost, test_size=0.3, random_state=42)\n",
        "\n",
        "del Data\n",
        "del cost"
      ]
    },
    {
      "cell_type": "code",
      "execution_count": null,
      "metadata": {
        "colab": {
          "base_uri": "https://localhost:8080/"
        },
        "id": "cBoY7lrkCM_5",
        "outputId": "66887c0f-87b9-4b8c-bae7-38524e16db00"
      },
      "outputs": [
        {
          "output_type": "stream",
          "name": "stdout",
          "text": [
            "Epoch 1/500\n",
            "2258/2258 [==============================] - 16s 6ms/step - loss: 4335447.5000 - val_loss: 3477691.5000\n",
            "Epoch 2/500\n",
            "2258/2258 [==============================] - 13s 6ms/step - loss: 1243807.8750 - val_loss: 1085053.6250\n",
            "Epoch 3/500\n",
            "2258/2258 [==============================] - 14s 6ms/step - loss: 965253.3750 - val_loss: 692461.1875\n",
            "Epoch 4/500\n",
            "2258/2258 [==============================] - 14s 6ms/step - loss: 860448.1250 - val_loss: 617188.1250\n",
            "Epoch 5/500\n",
            "2258/2258 [==============================] - 14s 6ms/step - loss: 802651.1875 - val_loss: 676576.5625\n",
            "Epoch 6/500\n",
            "2258/2258 [==============================] - 13s 6ms/step - loss: 750713.9375 - val_loss: 574150.3750\n",
            "Epoch 7/500\n",
            "2258/2258 [==============================] - 14s 6ms/step - loss: 734344.6875 - val_loss: 679892.0625\n",
            "Epoch 8/500\n",
            "2258/2258 [==============================] - 13s 6ms/step - loss: 735839.2500 - val_loss: 856494.6875\n",
            "Epoch 9/500\n",
            "2258/2258 [==============================] - 13s 6ms/step - loss: 684869.0000 - val_loss: 600187.6250\n",
            "Epoch 10/500\n",
            "2258/2258 [==============================] - 14s 6ms/step - loss: 685534.0625 - val_loss: 680090.9375\n",
            "Epoch 11/500\n",
            "2258/2258 [==============================] - 14s 6ms/step - loss: 654291.8750 - val_loss: 758062.8125\n",
            "Epoch 12/500\n",
            "2258/2258 [==============================] - 14s 6ms/step - loss: 652650.9375 - val_loss: 536112.8750\n",
            "Epoch 13/500\n",
            "2258/2258 [==============================] - 14s 6ms/step - loss: 627571.6250 - val_loss: 790453.6875\n",
            "Epoch 14/500\n",
            "2258/2258 [==============================] - 18s 8ms/step - loss: 628276.5625 - val_loss: 624035.0625\n",
            "Epoch 15/500\n",
            "2258/2258 [==============================] - 15s 7ms/step - loss: 611882.8750 - val_loss: 701459.6250\n",
            "Epoch 16/500\n",
            "2258/2258 [==============================] - 14s 6ms/step - loss: 611222.9375 - val_loss: 674358.1875\n",
            "Epoch 17/500\n",
            "2258/2258 [==============================] - 13s 6ms/step - loss: 605062.2500 - val_loss: 468733.8438\n",
            "Epoch 18/500\n",
            "2258/2258 [==============================] - 13s 6ms/step - loss: 586933.1250 - val_loss: 471406.6875\n",
            "Epoch 19/500\n",
            "2258/2258 [==============================] - 13s 6ms/step - loss: 591634.3750 - val_loss: 483309.7500\n",
            "Epoch 20/500\n",
            "2258/2258 [==============================] - 13s 6ms/step - loss: 570613.1250 - val_loss: 547782.5625\n",
            "Epoch 21/500\n",
            "2258/2258 [==============================] - 13s 6ms/step - loss: 566736.1250 - val_loss: 481991.5625\n",
            "Epoch 22/500\n",
            "2258/2258 [==============================] - 14s 6ms/step - loss: 574015.4375 - val_loss: 509073.2500\n",
            "Epoch 23/500\n",
            "2258/2258 [==============================] - 13s 6ms/step - loss: 571985.7500 - val_loss: 523493.7188\n",
            "Epoch 24/500\n",
            "2258/2258 [==============================] - 13s 6ms/step - loss: 584657.3750 - val_loss: 482372.1250\n",
            "Epoch 25/500\n",
            "2258/2258 [==============================] - 13s 6ms/step - loss: 557332.6250 - val_loss: 703649.8750\n",
            "Epoch 26/500\n",
            "2258/2258 [==============================] - 13s 6ms/step - loss: 555670.6250 - val_loss: 503013.4062\n",
            "Epoch 27/500\n",
            "2258/2258 [==============================] - 14s 6ms/step - loss: 551875.7500 - val_loss: 657203.6875\n",
            "Epoch 28/500\n",
            "2258/2258 [==============================] - 13s 6ms/step - loss: 552106.5625 - val_loss: 465802.5312\n",
            "Epoch 29/500\n",
            " 435/2258 [====>.........................] - ETA: 8s - loss: 596477.0625"
          ]
        }
      ],
      "source": [
        "# Define input size\n",
        "input_size = mask * 2 if mask is not None else 2048\n",
        "\n",
        "# Create the model\n",
        "model = tf.keras.models.Sequential([\n",
        "    tf.keras.layers.Dense(input_size, activation='relu', input_shape=(input_size,)),\n",
        "    tf.keras.layers.Dense(input_size, activation='relu'),\n",
        "    tf.keras.layers.Dense(input_size, activation='relu'),\n",
        "    tf.keras.layers.Dense(1, activation='linear')\n",
        "])\n",
        "\n",
        "# Compile the model\n",
        "optimizer = tf.keras.optimizers.Adam(learning_rate=0.005)\n",
        "model.compile(optimizer='adam', loss='mean_squared_error')\n",
        "\n",
        "# Define early stopping callback\n",
        "early_stopping = EarlyStopping(monitor='val_loss', patience=30, restore_best_weights=True)\n",
        "\n",
        "# Train the model with early stopping\n",
        "history = model.fit(X_train, y_train, epochs=500, batch_size=32, validation_data=(X_test, y_test), callbacks=[early_stopping])\n",
        "\n",
        "# Get the training and testing loss from the history\n",
        "train_loss = history.history['loss']\n",
        "val_loss = history.history['val_loss']\n",
        "\n",
        "# Plot the training and testing loss\n",
        "plt.plot(train_loss[1:], label='Training Loss')\n",
        "plt.plot(val_loss[1:], label='Testing Loss')\n",
        "plt.xlabel('Epoch')\n",
        "plt.ylabel('Loss')\n",
        "plt.legend()\n",
        "plt.show()"
      ]
    },
    {
      "cell_type": "code",
      "execution_count": null,
      "metadata": {
        "id": "QOk0eCrWFdOk"
      },
      "outputs": [],
      "source": [
        "train_predictions = model.predict(X_train)\n",
        "test_predictions = model.predict(X_test)\n",
        "\n",
        "train_result = result(train_predictions, y_train)\n",
        "test_result = result(test_predictions, y_test)\n",
        "\n",
        "#s1, s2 = X_train.shape[0]/(103200*0.7), X_test.shape[0]/(103200*0.3)\n",
        "\n",
        "#train_result = {key: value * s1 for key, value in train_result.items()}\n",
        "#test_result = {key: value * s2 for key, value in test_result.items()}\n",
        "\n",
        "clear_output(wait = True)\n",
        "\n",
        "result_table(train_result, test_result)"
      ]
    },
    {
      "cell_type": "markdown",
      "metadata": {
        "id": "hv1JpiCLMM35"
      },
      "source": [
        "2 hidden layers network:\n",
        "\n",
        "|       |     MPE |    < 1% |    < 5% |   < 10% |   < 15% |   < 25% |   < 50% |\n",
        "|:------|--------:|--------:|--------:|--------:|--------:|--------:|--------:|\n",
        "| Train | 51.1076 | 10.9635 | 46.1932 | 66.3054 | 74.2386 | 80.191  | 85.3904 |\n",
        "| Test  | 52      | 10.8879 | 45.68   | 66.1994 | 74.5454 | 80.5723 | 85.7369 |\n",
        "\n",
        "3 hidden layers network:\n",
        "\n",
        "|       |     MPE |    < 1% |    < 5% |   < 10% |   < 15% |   < 25% |   < 50% |\n",
        "|:------|--------:|--------:|--------:|--------:|--------:|--------:|--------:|\n",
        "| Train | 34.1976 | 11.1157 | 46.704  | 67.2107 | 75.2049 | 81.5905 | 89.0421 |\n",
        "| Test  | 34.8444 | 11.2109 | 46.5037 | 67.0424 | 75.3173 | 81.7932 | 89.3156 |\n",
        "\n",
        "4 hidden layers network:\n",
        "\n",
        "|       |     MPE |    < 1% |    < 5% |   < 10% |   < 15% |   < 25% |   < 50% |\n",
        "|:------|--------:|--------:|--------:|--------:|--------:|--------:|--------:|\n",
        "| Train | 69.0754 | 10.753  | 46.1822 | 65.8472 | 73.0828 | 78.2807 | 83.7583 |\n",
        "| Test  | 70.3839 | 10.9073 | 45.9029 | 65.7698 | 73.2567 | 78.6312 | 83.9702 |\n",
        "\n",
        "Ensemble of 5 3 layers networks:\n",
        "\n",
        "|       |     MPE |    < 1% |    < 5% |   < 10% |   < 15% |   < 25% |   < 50% |\n",
        "|:------|--------:|--------:|--------:|--------:|--------:|--------:|--------:|\n",
        "| Train | 25.4391 | 11.0783 | 45.9953 | 66.7539 | 75.9372 | 84.2068 | 93.5797 |\n",
        "| Test  | 21.5248 | 11.1463 | 45.764  | 66.4029 | 75.8373 | 84.1639 | 93.4789 |\n",
        "\n",
        "Model (2 hidden layers) per number of antennas:\n",
        "\n",
        "|       |     MPE |    < 1% |    < 5% |   < 10% |   < 15% |   < 25% |   < 50% |\n",
        "|:------|--------:|--------:|--------:|--------:|--------:|--------:|--------:|\n",
        "| Train | 7.86155 | 12.6315 | 52.0792 | 73.2309 | 83.8566 | 95.0761 |  99.546 |\n",
        "| Test  | 8.70262 | 10.9367 | 47.4031 | 70.407  | 81.6182 | 93.7435 |  99.241 |"
      ]
    }
  ],
  "metadata": {
    "accelerator": "GPU",
    "colab": {
      "provenance": [],
      "gpuType": "T4"
    },
    "kernelspec": {
      "display_name": "Python 3",
      "name": "python3"
    },
    "language_info": {
      "name": "python"
    }
  },
  "nbformat": 4,
  "nbformat_minor": 0
}