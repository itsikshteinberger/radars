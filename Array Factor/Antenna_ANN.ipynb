{
  "cells": [
    {
      "cell_type": "code",
      "execution_count": 2,
      "metadata": {
        "colab": {
          "base_uri": "https://localhost:8080/"
        },
        "id": "ZEq3a7e8VYmF",
        "outputId": "1cf2eab3-764d-4587-a847-3f2442cf4fa1"
      },
      "outputs": [
        {
          "output_type": "stream",
          "name": "stdout",
          "text": [
            "Mounted at /content/drive\n"
          ]
        }
      ],
      "source": [
        "from google.colab import drive\n",
        "drive.mount('/content/drive')\n",
        "\n",
        "import warnings\n",
        "warnings.filterwarnings('ignore')\n",
        "\n",
        "import scipy.io\n",
        "import numpy as np\n",
        "import matplotlib.pyplot as plt\n",
        "from sklearn.cluster import KMeans\n",
        "from IPython.display import clear_output\n",
        "from tqdm import tqdm\n",
        "import tensorflow as tf\n",
        "from tensorflow.keras import regularizers\n",
        "from sklearn.model_selection import train_test_split\n",
        "from tabulate import tabulate\n",
        "from tensorflow.keras import layers\n",
        "\n",
        "%matplotlib inline\n",
        "\n",
        "Cartesian = lambda x,y: np.transpose([np.tile(x, len(y)), np.repeat(y, len(x))])\n",
        "AddZ = lambda x: np.concatenate((x, np.zeros((x.shape[0], x.shape[1], 1))), axis=2)"
      ]
    },
    {
      "cell_type": "markdown",
      "metadata": {
        "id": "VsnQTlhGvvm-"
      },
      "source": [
        "### Useful functions:"
      ]
    },
    {
      "cell_type": "code",
      "execution_count": 3,
      "metadata": {
        "id": "qGJtIVtPjEb-"
      },
      "outputs": [],
      "source": [
        "def Freq(Data = None):\n",
        "  YantData = scipy.io.loadmat('/content/drive/MyDrive/AntData/YantData.mat')['YantData'].flatten()\n",
        "  res = np.array([YantData[i].shape[0] for i in range(YantData.shape[0])])\n",
        "  return res\n",
        "\n",
        "def Cluster(Z,Y,plot = True):\n",
        "\n",
        "    data = np.column_stack((Z, Y))\n",
        "    centers = Cartesian(np.array([-25,-8,8,25]),np.array([-25,-8,8,25]))\n",
        "    kmeans = KMeans(n_clusters=16, init=centers)\n",
        "    kmeans.fit(data)\n",
        "\n",
        "    labels = kmeans.labels_\n",
        "    centers = kmeans.cluster_centers_\n",
        "\n",
        "    if plot:\n",
        "      plt.figure(figsize=(12, 7))\n",
        "      plt.title(f\"Num of antennas: {Z.shape[0]}\")\n",
        "      plt.scatter(data[:, 0], data[:, 1], c=labels, cmap='viridis')\n",
        "      plt.scatter(centers[:, 0], centers[:, 1], marker='X',c='red', s=100, label='Centers')\n",
        "      plt.grid()\n",
        "      plt.show()\n",
        "\n",
        "    return data, labels\n",
        "\n",
        "def dist(Z,Y,i):\n",
        "    Z,Y = np.squeeze(Z[i]), np.squeeze(Y[i])\n",
        "    data, labels = Cluster(Z,Y, plot = False)\n",
        "\n",
        "    dist_data = []\n",
        "\n",
        "    for l in range(16):\n",
        "      dist_data.append(np.mean(data[labels == l][:,0]))\n",
        "      dist_data.append(np.std(data[labels == l][:,0]))\n",
        "      dist_data.append(np.mean(data[labels == l][:,1]))\n",
        "      dist_data.append(np.std(data[labels == l][:,1]))\n",
        "\n",
        "    return np.array(dist_data)\n",
        "\n",
        "def SmartPadding(Z,Y,i, flatten = True):\n",
        "    Z,Y = np.squeeze(Z[i]), np.squeeze(Y[i])\n",
        "    data, labels = Cluster(Z,Y, plot = False)\n",
        "\n",
        "    pad_data = None\n",
        "\n",
        "    for l in range(16):\n",
        "        labeled_data = np.vstack((data[labels == l], np.zeros((64 - np.sum(labels == l), 2))))\n",
        "        pad_data = np.vstack((pad_data, labeled_data)) if pad_data is not None else labeled_data\n",
        "\n",
        "    if flatten:\n",
        "      return pad_data.flatten()\n",
        "    else:\n",
        "      return pad_data\n",
        "\n",
        "def NaivePadding(Z,Y,i):\n",
        "    data = np.column_stack((np.squeeze(Z[i]), np.squeeze(Y[i])))\n",
        "    zeros = np.zeros((1024-data.shape[0],2))\n",
        "    return np.vstack((data,zeros)).flatten()\n",
        "\n",
        "def NoPadding(Z,Y,i):\n",
        "    data = np.column_stack((np.squeeze(Z[i]), np.squeeze(Y[i])))\n",
        "    return data.flatten()\n",
        "\n",
        "def CreateData(mask = None):\n",
        "    YantData = scipy.io.loadmat('/content/drive/MyDrive/AntData/YantData.mat')['YantData'].flatten()\n",
        "    ZantData = scipy.io.loadmat('/content/drive/MyDrive/AntData/ZantData.mat')['ZantData'].flatten()\n",
        "\n",
        "    cost = scipy.io.loadmat('/content/drive/MyDrive/AntData/cost.mat')['cost'].squeeze()\n",
        "\n",
        "    freq = Freq(YantData)\n",
        "    if mask:\n",
        "      YantData,ZantData,cost = YantData[freq == mask],ZantData[freq == mask],cost[freq == mask]\n",
        "      data_list = [NoPadding(ZantData, YantData, i) for i in tqdm(range(ZantData.shape[0]))]\n",
        "    else:\n",
        "      data_list = [SmartPadding(ZantData, YantData, i, flatten = False) for i in tqdm(range(ZantData.shape[0]))]\n",
        "\n",
        "    del YantData\n",
        "    del ZantData\n",
        "\n",
        "    return AddZ(np.array(data_list)), cost\n",
        "\n",
        "def result(preds, reals):\n",
        "  N = preds.shape[0]\n",
        "\n",
        "  res = {'MPE':0,  '< 1%':0, '< 5%':0, '< 10%':0, '< 15%':0, '< 25%':0, '< 50%':0}\n",
        "\n",
        "\n",
        "  for pred, real in zip(preds, reals):\n",
        "    percentage_error = np.abs((pred - real)/ real) * 100\n",
        "    try:\n",
        "      res['MPE'] += (percentage_error / N)[0]\n",
        "    except:\n",
        "      res['MPE'] += (percentage_error / N)\n",
        "    for i in [1,5,10,15,25,50]:\n",
        "      res[f\"< {i}%\"] += 100 / N if percentage_error <= i else 0\n",
        "\n",
        "  return res\n",
        "\n",
        "result_table = lambda train_result, test_result: print(tabulate([['Train']+list(train_result.values()), ['Test']+list(test_result.values())], headers=list(train_result.keys()), tablefmt='pipe'))\n"
      ]
    },
    {
      "cell_type": "markdown",
      "metadata": {
        "id": "_REJL4A9wh5Y"
      },
      "source": [
        "### Data Reading:"
      ]
    },
    {
      "cell_type": "code",
      "execution_count": 4,
      "metadata": {
        "colab": {
          "base_uri": "https://localhost:8080/"
        },
        "id": "R2G3xxMuU98M",
        "outputId": "cb12945c-b8b9-42f1-fa9e-a768d95ef577"
      },
      "outputs": [
        {
          "output_type": "stream",
          "name": "stderr",
          "text": [
            "100%|██████████| 103201/103201 [04:21<00:00, 394.68it/s]\n"
          ]
        }
      ],
      "source": [
        "mask = None\n",
        "Data, cost = CreateData(mask = mask)\n",
        "\n",
        "# Split the data into training and testing sets\n",
        "X_train, X_test, y_train, y_test = train_test_split(Data, cost, test_size=0.3, random_state=42)\n",
        "\n",
        "del Data\n",
        "del cost"
      ]
    },
    {
      "cell_type": "code",
      "source": [
        "X_train, X_test = np.transpose(X_train, axes=(0,2,1)), np.transpose(X_test, axes=(0,2,1))"
      ],
      "metadata": {
        "id": "lw66CEOlqWdu"
      },
      "execution_count": 22,
      "outputs": []
    },
    {
      "cell_type": "markdown",
      "metadata": {
        "id": "ddsEY5tl_FAe"
      },
      "source": [
        "Show the Data:"
      ]
    },
    {
      "cell_type": "code",
      "execution_count": null,
      "metadata": {
        "colab": {
          "base_uri": "https://localhost:8080/",
          "height": 452
        },
        "id": "AlsmsxVt-MIo",
        "outputId": "a5aa9b39-db9d-4123-924f-c12b5e667b5b"
      },
      "outputs": [
        {
          "data": {
            "image/png": "[encoded data removed]",
            "text/plain": [
              "<Figure size 640x480 with 1 Axes>"
            ]
          },
          "metadata": {},
          "output_type": "display_data"
        }
      ],
      "source": [
        "for _ in range(10):\n",
        "  clear_output(wait = True)\n",
        "  i = np.random.randint(0,X_train.shape[0])\n",
        "  plt.title(i)\n",
        "  plt.scatter(X_train[i,:,0],X_train[i,:,1])\n",
        "  plt.show()"
      ]
    },
    {
      "cell_type": "markdown",
      "metadata": {
        "id": "ytwvz8FxpSqk"
      },
      "source": [
        "### Data pre-processing (Optional)"
      ]
    },
    {
      "cell_type": "code",
      "execution_count": null,
      "metadata": {
        "id": "XWrRCE1Q3bCH"
      },
      "outputs": [],
      "source": [
        "#x_mean = np.mean(X_train, axis = 0)\n",
        "#x_std = np.std(X_train, axis = 0)\n",
        "\n",
        "#y_mean = np.mean(y_train)\n",
        "#y_std = np.std(y_train)\n",
        "\n",
        "#X_train = (X_train - x_mean) / x_std\n",
        "#X_test = (X_test - x_mean) / x_std\n",
        "\n",
        "#y_train = (y_train - y_mean) / y_std\n",
        "#y_test = (y_test - y_mean) / y_std"
      ]
    },
    {
      "cell_type": "markdown",
      "metadata": {
        "id": "2SF92oNKfsiS"
      },
      "source": [
        "All possible masks: [ 800,  804,  808,  812,  816,  820,  824,  828,  832,  836,  840, 844,  848,  852,  856,  860,  864,  868,  872,  884,  888, 1024]"
      ]
    },
    {
      "cell_type": "markdown",
      "metadata": {
        "id": "OfRK9nxXqihv"
      },
      "source": [
        "### PoinNet++"
      ]
    },
    {
      "cell_type": "code",
      "execution_count": 40,
      "metadata": {
        "colab": {
          "base_uri": "https://localhost:8080/",
          "height": 397
        },
        "id": "Ow8jZ1GbqtDx",
        "outputId": "8292ea41-a59a-4f0e-dc9b-37e39ef9ae16"
      },
      "outputs": [
        {
          "output_type": "stream",
          "name": "stderr",
          "text": [
            "  2%|▏         | 47/2258 [00:03<02:21, 15.58it/s]\n"
          ]
        },
        {
          "output_type": "error",
          "ename": "KeyboardInterrupt",
          "evalue": "ignored",
          "traceback": [
            "\u001b[0;31m---------------------------------------------------------------------------\u001b[0m",
            "\u001b[0;31mKeyboardInterrupt\u001b[0m                         Traceback (most recent call last)",
            "\u001b[0;32m<ipython-input-40-ffc46128d29a>\u001b[0m in \u001b[0;36m<cell line: 205>\u001b[0;34m()\u001b[0m\n\u001b[1;32m    211\u001b[0m         \u001b[0moptimizer\u001b[0m\u001b[0;34m.\u001b[0m\u001b[0mzero_grad\u001b[0m\u001b[0;34m(\u001b[0m\u001b[0;34m)\u001b[0m\u001b[0;34m\u001b[0m\u001b[0;34m\u001b[0m\u001b[0m\n\u001b[1;32m    212\u001b[0m \u001b[0;34m\u001b[0m\u001b[0m\n\u001b[0;32m--> 213\u001b[0;31m         \u001b[0moutputs\u001b[0m \u001b[0;34m=\u001b[0m \u001b[0mmodel\u001b[0m\u001b[0;34m(\u001b[0m\u001b[0mbatch_X\u001b[0m\u001b[0;34m)\u001b[0m\u001b[0;34m\u001b[0m\u001b[0;34m\u001b[0m\u001b[0m\n\u001b[0m\u001b[1;32m    214\u001b[0m         \u001b[0mloss\u001b[0m \u001b[0;34m=\u001b[0m \u001b[0mcriterion\u001b[0m\u001b[0;34m(\u001b[0m\u001b[0moutputs\u001b[0m\u001b[0;34m,\u001b[0m \u001b[0mbatch_y\u001b[0m\u001b[0;34m)\u001b[0m\u001b[0;34m\u001b[0m\u001b[0;34m\u001b[0m\u001b[0m\n\u001b[1;32m    215\u001b[0m         \u001b[0mloss\u001b[0m\u001b[0;34m.\u001b[0m\u001b[0mbackward\u001b[0m\u001b[0;34m(\u001b[0m\u001b[0;34m)\u001b[0m\u001b[0;34m\u001b[0m\u001b[0;34m\u001b[0m\u001b[0m\n",
            "\u001b[0;32m/usr/local/lib/python3.10/dist-packages/torch/nn/modules/module.py\u001b[0m in \u001b[0;36m_call_impl\u001b[0;34m(self, *args, **kwargs)\u001b[0m\n\u001b[1;32m   1499\u001b[0m                 \u001b[0;32mor\u001b[0m \u001b[0m_global_backward_pre_hooks\u001b[0m \u001b[0;32mor\u001b[0m \u001b[0m_global_backward_hooks\u001b[0m\u001b[0;34m\u001b[0m\u001b[0;34m\u001b[0m\u001b[0m\n\u001b[1;32m   1500\u001b[0m                 or _global_forward_hooks or _global_forward_pre_hooks):\n\u001b[0;32m-> 1501\u001b[0;31m             \u001b[0;32mreturn\u001b[0m \u001b[0mforward_call\u001b[0m\u001b[0;34m(\u001b[0m\u001b[0;34m*\u001b[0m\u001b[0margs\u001b[0m\u001b[0;34m,\u001b[0m \u001b[0;34m**\u001b[0m\u001b[0mkwargs\u001b[0m\u001b[0;34m)\u001b[0m\u001b[0;34m\u001b[0m\u001b[0;34m\u001b[0m\u001b[0m\n\u001b[0m\u001b[1;32m   1502\u001b[0m         \u001b[0;31m# Do not call functions when jit is used\u001b[0m\u001b[0;34m\u001b[0m\u001b[0;34m\u001b[0m\u001b[0m\n\u001b[1;32m   1503\u001b[0m         \u001b[0mfull_backward_hooks\u001b[0m\u001b[0;34m,\u001b[0m \u001b[0mnon_full_backward_hooks\u001b[0m \u001b[0;34m=\u001b[0m \u001b[0;34m[\u001b[0m\u001b[0;34m]\u001b[0m\u001b[0;34m,\u001b[0m \u001b[0;34m[\u001b[0m\u001b[0;34m]\u001b[0m\u001b[0;34m\u001b[0m\u001b[0;34m\u001b[0m\u001b[0m\n",
            "\u001b[0;32m<ipython-input-40-ffc46128d29a>\u001b[0m in \u001b[0;36mforward\u001b[0;34m(self, x)\u001b[0m\n\u001b[1;32m    167\u001b[0m         \u001b[0;31m#  input transform:\u001b[0m\u001b[0;34m\u001b[0m\u001b[0;34m\u001b[0m\u001b[0m\n\u001b[1;32m    168\u001b[0m         \u001b[0mx_\u001b[0m \u001b[0;34m=\u001b[0m \u001b[0mx\u001b[0m\u001b[0;34m.\u001b[0m\u001b[0mclone\u001b[0m\u001b[0;34m(\u001b[0m\u001b[0;34m)\u001b[0m\u001b[0;34m\u001b[0m\u001b[0;34m\u001b[0m\u001b[0m\n\u001b[0;32m--> 169\u001b[0;31m         \u001b[0mT3\u001b[0m \u001b[0;34m=\u001b[0m \u001b[0mself\u001b[0m\u001b[0;34m.\u001b[0m\u001b[0mTNet3\u001b[0m\u001b[0;34m(\u001b[0m\u001b[0mx_\u001b[0m\u001b[0;34m)\u001b[0m\u001b[0;34m\u001b[0m\u001b[0;34m\u001b[0m\u001b[0m\n\u001b[0m\u001b[1;32m    170\u001b[0m         \u001b[0mx\u001b[0m \u001b[0;34m=\u001b[0m \u001b[0mtorch\u001b[0m\u001b[0;34m.\u001b[0m\u001b[0mmatmul\u001b[0m\u001b[0;34m(\u001b[0m\u001b[0mT3\u001b[0m\u001b[0;34m,\u001b[0m \u001b[0mx\u001b[0m\u001b[0;34m)\u001b[0m\u001b[0;34m\u001b[0m\u001b[0;34m\u001b[0m\u001b[0m\n\u001b[1;32m    171\u001b[0m \u001b[0;34m\u001b[0m\u001b[0m\n",
            "\u001b[0;32m/usr/local/lib/python3.10/dist-packages/torch/nn/modules/module.py\u001b[0m in \u001b[0;36m_call_impl\u001b[0;34m(self, *args, **kwargs)\u001b[0m\n\u001b[1;32m   1499\u001b[0m                 \u001b[0;32mor\u001b[0m \u001b[0m_global_backward_pre_hooks\u001b[0m \u001b[0;32mor\u001b[0m \u001b[0m_global_backward_hooks\u001b[0m\u001b[0;34m\u001b[0m\u001b[0;34m\u001b[0m\u001b[0m\n\u001b[1;32m   1500\u001b[0m                 or _global_forward_hooks or _global_forward_pre_hooks):\n\u001b[0;32m-> 1501\u001b[0;31m             \u001b[0;32mreturn\u001b[0m \u001b[0mforward_call\u001b[0m\u001b[0;34m(\u001b[0m\u001b[0;34m*\u001b[0m\u001b[0margs\u001b[0m\u001b[0;34m,\u001b[0m \u001b[0;34m**\u001b[0m\u001b[0mkwargs\u001b[0m\u001b[0;34m)\u001b[0m\u001b[0;34m\u001b[0m\u001b[0;34m\u001b[0m\u001b[0m\n\u001b[0m\u001b[1;32m   1502\u001b[0m         \u001b[0;31m# Do not call functions when jit is used\u001b[0m\u001b[0;34m\u001b[0m\u001b[0;34m\u001b[0m\u001b[0m\n\u001b[1;32m   1503\u001b[0m         \u001b[0mfull_backward_hooks\u001b[0m\u001b[0;34m,\u001b[0m \u001b[0mnon_full_backward_hooks\u001b[0m \u001b[0;34m=\u001b[0m \u001b[0;34m[\u001b[0m\u001b[0;34m]\u001b[0m\u001b[0;34m,\u001b[0m \u001b[0;34m[\u001b[0m\u001b[0;34m]\u001b[0m\u001b[0;34m\u001b[0m\u001b[0;34m\u001b[0m\u001b[0m\n",
            "\u001b[0;32m<ipython-input-40-ffc46128d29a>\u001b[0m in \u001b[0;36mforward\u001b[0;34m(self, x)\u001b[0m\n\u001b[1;32m     98\u001b[0m         \u001b[0miden\u001b[0m \u001b[0;34m=\u001b[0m \u001b[0mtorch\u001b[0m\u001b[0;34m.\u001b[0m\u001b[0meye\u001b[0m\u001b[0;34m(\u001b[0m\u001b[0;36m3\u001b[0m\u001b[0;34m,\u001b[0m \u001b[0;36m3\u001b[0m\u001b[0;34m)\u001b[0m\u001b[0;34m.\u001b[0m\u001b[0mrepeat\u001b[0m\u001b[0;34m(\u001b[0m\u001b[0mbatch_size\u001b[0m\u001b[0;34m,\u001b[0m \u001b[0;36m1\u001b[0m\u001b[0;34m,\u001b[0m \u001b[0;36m1\u001b[0m\u001b[0;34m)\u001b[0m\u001b[0;34m\u001b[0m\u001b[0;34m\u001b[0m\u001b[0m\n\u001b[1;32m     99\u001b[0m         \u001b[0;32mif\u001b[0m \u001b[0mx\u001b[0m\u001b[0;34m.\u001b[0m\u001b[0mis_cuda\u001b[0m\u001b[0;34m:\u001b[0m\u001b[0;34m\u001b[0m\u001b[0;34m\u001b[0m\u001b[0m\n\u001b[0;32m--> 100\u001b[0;31m             \u001b[0miden\u001b[0m \u001b[0;34m=\u001b[0m \u001b[0miden\u001b[0m\u001b[0;34m.\u001b[0m\u001b[0mto\u001b[0m\u001b[0;34m(\u001b[0m\u001b[0mself\u001b[0m\u001b[0;34m.\u001b[0m\u001b[0mdevice\u001b[0m\u001b[0;34m)\u001b[0m\u001b[0;34m\u001b[0m\u001b[0;34m\u001b[0m\u001b[0m\n\u001b[0m\u001b[1;32m    101\u001b[0m \u001b[0;34m\u001b[0m\u001b[0m\n\u001b[1;32m    102\u001b[0m         \u001b[0mx\u001b[0m \u001b[0;34m=\u001b[0m \u001b[0mx\u001b[0m\u001b[0;34m.\u001b[0m\u001b[0mview\u001b[0m\u001b[0;34m(\u001b[0m\u001b[0;34m-\u001b[0m\u001b[0;36m1\u001b[0m\u001b[0;34m,\u001b[0m \u001b[0;36m3\u001b[0m\u001b[0;34m,\u001b[0m \u001b[0;36m3\u001b[0m\u001b[0;34m)\u001b[0m\u001b[0;34m\u001b[0m\u001b[0;34m\u001b[0m\u001b[0m\n",
            "\u001b[0;31mKeyboardInterrupt\u001b[0m: "
          ]
        }
      ],
      "source": [
        "import torch\n",
        "from torch import nn\n",
        "import torch.nn.functional as F\n",
        "import torch.optim as optim\n",
        "from torch.utils.data import Dataset, DataLoader\n",
        "\n",
        "device = 'cuda' if torch.cuda.is_available() else 'cpu'\n",
        "\n",
        "\n",
        "class MyDataset(Dataset):\n",
        "    def __init__(self, X, y):\n",
        "        self.X = torch.from_numpy(X).float()\n",
        "        self.y = torch.from_numpy(y).float()\n",
        "\n",
        "    def __len__(self):\n",
        "        return self.X.shape[0]\n",
        "\n",
        "    def __getitem__(self, index):\n",
        "        return self.X[index], self.y[index]\n",
        "\n",
        "\n",
        "class mlp(nn.Module):\n",
        "    def __init__(self, in_size, out_size, k_size=1, batchnorm=True):\n",
        "        \"\"\"\n",
        "        Creates a mlp layer as described in the paper.\n",
        "\n",
        "        in_size: input size of the mlp\n",
        "        out_size: output size of the mlp\n",
        "        relu: apply relu\n",
        "        batchnorm: apply norm\n",
        "        \"\"\"\n",
        "        super(mlp, self).__init__()\n",
        "        self.batchnorm = batchnorm\n",
        "        self.conv = nn.Conv1d(in_size, out_size, k_size)\n",
        "        self.bn = nn.BatchNorm1d(out_size)\n",
        "\n",
        "    def forward(self, x):\n",
        "        if self.batchnorm:\n",
        "            return F.relu(self.bn(self.conv(x)))\n",
        "        else:\n",
        "            return self.conv(x)\n",
        "\n",
        "\n",
        "class fc(nn.Module):\n",
        "    def __init__(self, in_size, out_size, k_size=1, batchnorm=True, dropout=False, dropout_p=0.7):\n",
        "        \"\"\"\n",
        "        Creates a fully connected layer as described in the paper.\n",
        "\n",
        "        in_size: input size of the mlp\n",
        "        out_size: output size of the mlp\n",
        "        relu: apply relu\n",
        "        batchnorm: apply norm\n",
        "        \"\"\"\n",
        "        super(fc, self).__init__()\n",
        "        self.batchnorm = batchnorm\n",
        "        self.dropout = dropout\n",
        "\n",
        "        self.fc = nn.Linear(in_size, out_size)\n",
        "        self.bn = nn.BatchNorm1d(out_size)\n",
        "        self.dp = nn.Dropout(p=dropout_p)\n",
        "\n",
        "    def forward(self, x):\n",
        "        if self.batchnorm and not self.dropout:\n",
        "            return F.relu(self.bn(self.fc(x)))\n",
        "        elif self.batchnorm and self.dropout:\n",
        "            return F.relu(self.bn(self.dp(self.fc(x))))\n",
        "        elif not self.batchnorm:\n",
        "            return self.fc(x)\n",
        "\n",
        "\n",
        "class TNet3(nn.Module):\n",
        "    def __init__(self, device):\n",
        "        super(TNet3, self).__init__()\n",
        "\n",
        "        self.device = device\n",
        "\n",
        "        self.mlp1 = mlp(3, 64)\n",
        "        self.mlp2 = mlp(64, 128)\n",
        "        self.mlp3 = mlp(128, 1024)\n",
        "\n",
        "        self.fc1 = fc(1024, 512)\n",
        "        self.fc2 = fc(512, 256, dropout=True)\n",
        "        self.fc3 = fc(256, 9)\n",
        "\n",
        "    def forward(self, x):\n",
        "        batch_size = x.shape[0]\n",
        "        x = self.mlp1(x)\n",
        "        x = self.mlp2(x)\n",
        "        x = self.mlp3(x)\n",
        "\n",
        "        x = torch.max(x, 2)[0]\n",
        "\n",
        "        x = self.fc1(x)\n",
        "        x = self.fc2(x)\n",
        "        x = self.fc3(x)\n",
        "\n",
        "        #  For stability\n",
        "        iden = torch.eye(3, 3).repeat(batch_size, 1, 1)\n",
        "        if x.is_cuda:\n",
        "            iden = iden.to(self.device)\n",
        "\n",
        "        x = x.view(-1, 3, 3)\n",
        "        x = x + iden\n",
        "\n",
        "        return x\n",
        "\n",
        "\n",
        "class TNet64(nn.Module):\n",
        "    def __init__(self, device):\n",
        "        super(TNet64, self).__init__()\n",
        "\n",
        "        self.device = device\n",
        "\n",
        "        self.mlp1 = mlp(64, 64)\n",
        "        self.mlp2 = mlp(64, 128)\n",
        "        self.mlp3 = mlp(128, 1024)\n",
        "\n",
        "        self.fc1 = fc(1024, 512)\n",
        "        self.fc2 = fc(512, 256, dropout=True)\n",
        "        self.fc3 = fc(256, 64 * 64)\n",
        "\n",
        "    def forward(self, x):\n",
        "        batch_size = x.shape[0]\n",
        "        x = self.mlp1(x)\n",
        "        x = self.mlp2(x)\n",
        "        x = self.mlp3(x)\n",
        "\n",
        "        x = torch.max(x, 2)[0]\n",
        "\n",
        "        x = self.fc1(x)\n",
        "        x = self.fc2(x)\n",
        "        x = self.fc3(x)\n",
        "\n",
        "        #  For stability\n",
        "        iden = torch.eye(64, 64).repeat(batch_size, 1, 1)\n",
        "        if x.is_cuda:\n",
        "            iden = iden.to(self.device)\n",
        "\n",
        "        x = x.view(-1, 64, 64)\n",
        "        x = x + iden\n",
        "\n",
        "        return x\n",
        "\n",
        "\n",
        "class PointNetClass(nn.Module):\n",
        "    def __init__(self, device, classes=1):\n",
        "        \"\"\"\n",
        "        k: number of classes which a the input (shape) can be classified into\n",
        "        \"\"\"\n",
        "        super(PointNetClass, self).__init__()\n",
        "        self.device = device\n",
        "        self.classes = classes\n",
        "\n",
        "        self.TNet3 = TNet3(self.device)\n",
        "        self.TNet64 = TNet64(self.device)\n",
        "\n",
        "        self.mlp1 = mlp(3, 64)\n",
        "        self.mlp2 = mlp(64, 64)\n",
        "        self.mlp3 = mlp(64, 128)\n",
        "        self.mlp4 = mlp(128, 1024)\n",
        "\n",
        "        self.mlp5 = mlp(1024, 512)\n",
        "        self.mlp6 = mlp(512, 256)\n",
        "        self.mlp7 = mlp(256, self.classes, batchnorm=False)\n",
        "\n",
        "    def forward(self, x):\n",
        "        #  input transform:\n",
        "        x_ = x.clone()\n",
        "        T3 = self.TNet3(x_)\n",
        "        x = torch.matmul(T3, x)\n",
        "\n",
        "        #  mlp (64,64):\n",
        "        x = self.mlp1(x)\n",
        "        x = self.mlp2(x)\n",
        "\n",
        "        # feature transform:\n",
        "        x_ = x.clone()\n",
        "        T64 = self.TNet64(x_)\n",
        "        x = torch.matmul(T64, x)\n",
        "\n",
        "        #  mlp (64,128,1024):\n",
        "        x = self.mlp3(x)\n",
        "        x = self.mlp4(x)\n",
        "\n",
        "        x = torch.max(x, 2, keepdim=True)[0]\n",
        "\n",
        "        x = self.mlp5(x)\n",
        "        x = self.mlp6(x)\n",
        "        x = self.mlp7(x)\n",
        "\n",
        "        return x.squeeze()\n",
        "\n",
        "train_dataset = MyDataset(X_train, y_train)\n",
        "test_dataset = MyDataset(X_test, y_test)\n",
        "\n",
        "train_loader = DataLoader(train_dataset, batch_size=32, shuffle=True)\n",
        "test_loader = DataLoader(test_dataset, batch_size=32, shuffle=False)\n",
        "\n",
        "del X_train, X_test, y_train, y_test\n",
        "\n",
        "model = PointNetClass(device, 1).to(device)\n",
        "criterion = nn.CrossEntropyLoss()\n",
        "optimizer = optim.Adam(model.parameters(), lr=0.001)\n",
        "\n",
        "num_epochs = 10\n",
        "\n",
        "for epoch in range(num_epochs):\n",
        "    model.train()\n",
        "    train_loss = 0.0\n",
        "\n",
        "    for batch_X, batch_y in tqdm(train_loader):\n",
        "        batch_X, batch_y = batch_X.to(device), batch_y.to(device)\n",
        "        optimizer.zero_grad()\n",
        "\n",
        "        outputs = model(batch_X)\n",
        "        loss = criterion(outputs, batch_y)\n",
        "        loss.backward()\n",
        "        optimizer.step()\n",
        "\n",
        "        train_loss += loss.item()\n",
        "\n",
        "    train_loss /= len(train_loader)\n",
        "\n",
        "    model.eval()\n",
        "    test_loss = 0.0\n",
        "\n",
        "    with torch.no_grad():\n",
        "        for batch_X, batch_y in tqdm(test_loader):\n",
        "            batch_X, batch_y = batch_X.to(device), batch_y.to(device)\n",
        "            outputs = model(batch_X)\n",
        "            loss = criterion(outputs, batch_y)\n",
        "            test_loss += loss.item()\n",
        "\n",
        "        test_loss /= len(test_loader)\n",
        "\n",
        "    print(f\"Epoch [{epoch+1}/{num_epochs}], Train Loss: {train_loss:.4f}, Test Loss: {test_loss:.4f}\")\n"
      ]
    },
    {
      "cell_type": "code",
      "source": [
        "batch_y.to(device)"
      ],
      "metadata": {
        "colab": {
          "base_uri": "https://localhost:8080/"
        },
        "id": "5bX0ddr8vhTa",
        "outputId": "deedc1fc-4a69-42bf-d60e-ec7dd62edbbc"
      },
      "execution_count": 36,
      "outputs": [
        {
          "output_type": "execute_result",
          "data": {
            "text/plain": [
              "tensor([-4.5002e+03, -9.1813e+01, -4.3446e+03, -3.3016e+01, -2.8887e+00,\n",
              "        -1.2146e+04, -2.2698e+04, -1.7464e+04, -2.2212e+04, -2.6576e+04,\n",
              "        -1.2984e+04, -3.8347e+03, -1.8808e+04, -4.1016e+03, -1.7942e+03,\n",
              "        -3.1637e+00, -1.9412e+04, -2.0819e+04, -1.9793e+04, -5.7064e+03,\n",
              "        -2.7449e+04, -1.8217e+04, -2.5887e+02, -1.2350e+04, -1.3566e+03,\n",
              "        -1.8817e+04, -1.1013e+02, -7.0939e+03, -1.6359e+04, -1.3728e+03,\n",
              "        -8.9003e+03, -1.0649e+04], device='cuda:0')"
            ]
          },
          "metadata": {},
          "execution_count": 36
        }
      ]
    },
    {
      "cell_type": "code",
      "execution_count": null,
      "metadata": {
        "colab": {
          "base_uri": "https://localhost:8080/"
        },
        "id": "jP7Q0t9UlwA6",
        "outputId": "d24c5b80-cb22-46d2-e227-07b5cd4d9a98"
      },
      "outputs": [
        {
          "name": "stdout",
          "output_type": "stream",
          "text": [
            "|       |     MPE |    < 1% |    < 5% |   < 10% |   < 15% |   < 25% |   < 50% |\n",
            "|:------|--------:|--------:|--------:|--------:|--------:|--------:|--------:|\n",
            "| Train | 2538.64 | 2.01412 | 9.62763 | 18.6171 | 26.686  | 39.0905 | 54.7107 |\n",
            "| Test  | 2374.09 | 1.88301 | 9.50228 | 18.6299 | 26.6174 | 38.8715 | 54.6074 |\n"
          ]
        }
      ],
      "source": [
        "train_predictions = model.predict(X_train)\n",
        "test_predictions = model.predict(X_test)\n",
        "\n",
        "train_result = result(train_predictions, y_train)\n",
        "test_result = result(test_predictions, y_test)\n",
        "\n",
        "clear_output(wait = True)\n",
        "\n",
        "result_table(train_result, test_result)"
      ]
    },
    {
      "cell_type": "markdown",
      "metadata": {
        "id": "yNHiHOkg3oaz"
      },
      "source": [
        "### Xgboost"
      ]
    },
    {
      "cell_type": "code",
      "execution_count": null,
      "metadata": {
        "colab": {
          "base_uri": "https://localhost:8080/"
        },
        "id": "0voSel8HLMXt",
        "outputId": "decf2da6-bd4a-4e2c-b26c-931ee70b4786"
      },
      "outputs": [
        {
          "name": "stdout",
          "output_type": "stream",
          "text": [
            "|       |      MPE |    < 1% |    < 5% |   < 10% |   < 15% |   < 25% |   < 50% |\n",
            "|:------|---------:|--------:|--------:|--------:|--------:|--------:|--------:|\n",
            "| Train |  53.9328 | 7.54687 | 34.3125 | 56.625  | 69.9115 | 82.2031 | 91.6458 |\n",
            "| Test  | 111.609  | 2.125   | 10.6042 | 21.9583 | 31.5417 | 47.9167 | 71.7917 |\n"
          ]
        }
      ],
      "source": [
        "import xgboost as xgb\n",
        "\n",
        "# Create DMatrix objects for XGBoost\n",
        "dtrain = xgb.DMatrix(X_train, label=y_train)\n",
        "dtest = xgb.DMatrix(X_test, label=y_test)\n",
        "\n",
        "# Set the hyperparameters for XGBoost\n",
        "params = {\n",
        "    'objective': 'reg:squarederror',  # Specify the regression objective\n",
        "    'eval_metric': 'rmse',  # Root Mean Squared Error (RMSE) for evaluation\n",
        "    'verbosity': 2  # Enable the built-in progress bar\n",
        "    }\n",
        "\n",
        "# Train the XGBoost model\n",
        "num_rounds = 500  # Number of boosting rounds\n",
        "eval_results = {}\n",
        "model = xgb.train(params, dtrain, num_rounds, evals=[(dtrain, 'train'),(dtest, 'test')], early_stopping_rounds=10, evals_result=eval_results)\n",
        "\n",
        "# Make predictions on the test & train set\n",
        "test_predictions = model.predict(dtest)\n",
        "train_predictions = model.predict(dtrain)\n",
        "\n",
        "# Compute and print the result table\n",
        "train_result = result(train_predictions, y_train)\n",
        "test_result = result(test_predictions, y_test)\n",
        "\n",
        "clear_output(wait = True)\n",
        "\n",
        "result_table(train_result, test_result)"
      ]
    },
    {
      "cell_type": "markdown",
      "metadata": {
        "id": "esKhMuChwNft"
      },
      "source": [
        "### Model training (Neural Network):"
      ]
    },
    {
      "cell_type": "code",
      "execution_count": null,
      "metadata": {
        "colab": {
          "base_uri": "https://localhost:8080/",
          "height": 465
        },
        "id": "IVwFQvVLeUeD",
        "outputId": "8e3416be-6a1e-4dd9-8731-cfa09ded05df"
      },
      "outputs": [
        {
          "data": {
            "image/png": "[encoded data removed]",
            "text/plain": [
              "<Figure size 640x480 with 1 Axes>"
            ]
          },
          "metadata": {},
          "output_type": "display_data"
        }
      ],
      "source": [
        "input_size = mask*2 if mask else 2048\n",
        "\n",
        "# Define the model architecture\n",
        "\n",
        "model = tf.keras.models.Sequential([\n",
        "    tf.keras.layers.Dense(input_size, activation='relu', input_shape=(input_size,)),\n",
        "    tf.keras.layers.Dense(input_size, activation='relu'),\n",
        "    tf.keras.layers.Dense(1, activation='linear')\n",
        "])\n",
        "\n",
        "# Compile the model\n",
        "optimizer = tf.keras.optimizers.Adam(learning_rate=0.005)\n",
        "model.compile(optimizer = optimizer, loss='mean_squared_error')\n",
        "\n",
        "# Train the model\n",
        "history = model.fit(X_train, y_train, epochs=10, batch_size=32, validation_data=(X_test, y_test))\n",
        "\n",
        "# Get the training and testing loss from the history\n",
        "train_loss = history.history['loss']\n",
        "val_loss = history.history['val_loss']\n",
        "\n",
        "clear_output(wait = True)\n",
        "\n",
        "# Plot the training and testing loss\n",
        "plt.plot(train_loss[1:], label='Training Loss')\n",
        "plt.plot(val_loss[1:], label='Testing Loss')\n",
        "plt.xlabel('Epoch')\n",
        "plt.ylabel('Loss')\n",
        "plt.legend()\n",
        "plt.show()"
      ]
    },
    {
      "cell_type": "markdown",
      "metadata": {
        "id": "mr8u86RFwS-H"
      },
      "source": [
        "### Model evaluating:"
      ]
    },
    {
      "cell_type": "code",
      "execution_count": null,
      "metadata": {
        "colab": {
          "base_uri": "https://localhost:8080/"
        },
        "id": "px0FOtBF1xRa",
        "outputId": "9f2b0076-0d30-41be-aa95-ed604a57671e"
      },
      "outputs": [
        {
          "name": "stdout",
          "output_type": "stream",
          "text": [
            "|       |     MPE |     < 1% |    < 5% |   < 10% |   < 15% |   < 25% |   < 50% |\n",
            "|:------|--------:|---------:|--------:|--------:|--------:|--------:|--------:|\n",
            "| Train | 92.0723 |  9.94186 | 42.9319 | 63.7265 | 72.183  | 79.2456 | 83.4164 |\n",
            "| Test  | 91.5895 | 10.074   | 42.8604 | 63.3797 | 72.2683 | 79.4677 | 83.5955 |\n"
          ]
        }
      ],
      "source": [
        "train_predictions = model.predict(X_train)\n",
        "test_predictions = model.predict(X_test)\n",
        "\n",
        "train_result = result(train_predictions, y_train)\n",
        "test_result = result(test_predictions, y_test)\n",
        "\n",
        "clear_output(wait = True)\n",
        "\n",
        "result_table(train_result, test_result)"
      ]
    },
    {
      "cell_type": "code",
      "execution_count": null,
      "metadata": {
        "id": "gerXpO1fhNwm"
      },
      "outputs": [],
      "source": [
        "np.subtract(train_predictions,y_train)"
      ]
    },
    {
      "cell_type": "markdown",
      "metadata": {
        "id": "qzfkRsPTRga-"
      },
      "source": [
        "### Ensemble"
      ]
    },
    {
      "cell_type": "code",
      "execution_count": null,
      "metadata": {
        "colab": {
          "base_uri": "https://localhost:8080/"
        },
        "id": "FtW9e9SORffJ",
        "outputId": "00964ef1-b38b-4673-d0f4-d02e298ae59a"
      },
      "outputs": [
        {
          "name": "stdout",
          "output_type": "stream",
          "text": [
            "|       |     MPE |    < 1% |    < 5% |   < 10% |   < 15% |   < 25% |   < 50% |\n",
            "|:------|--------:|--------:|--------:|--------:|--------:|--------:|--------:|\n",
            "| Train | 4.19256 | 15.9583 | 67.5104 | 93.7812 | 98.7292 | 99.8594 |     100 |\n",
            "| Test  | 4.40353 | 14.1458 | 64.6875 | 93.1042 | 98.3958 | 99.9167 |     100 |\n"
          ]
        }
      ],
      "source": [
        "input_size = mask * 2 if mask else 2048\n",
        "\n",
        "def create_model():\n",
        "    model = tf.keras.models.Sequential([\n",
        "        tf.keras.layers.Dense(input_size, activation='relu', input_shape=(input_size,)),\n",
        "        tf.keras.layers.Dense(input_size, activation='relu'),\n",
        "        tf.keras.layers.Dense(input_size, activation='relu'),\n",
        "        tf.keras.layers.Dense(1, activation='linear')\n",
        "    ])\n",
        "\n",
        "    optimizer = tf.keras.optimizers.Adam(learning_rate=0.005)\n",
        "    model.compile(optimizer=optimizer, loss='mean_squared_error')\n",
        "\n",
        "    return model\n",
        "\n",
        "num_models = 5\n",
        "test_predictions = 0\n",
        "train_predictions = 0\n",
        "\n",
        "for i in range(num_models):\n",
        "    model = create_model()\n",
        "    clear_output(wait=True)\n",
        "    print(f\"{i+1}/{num_models}:\")\n",
        "    model.fit(X_train, y_train, epochs=50, batch_size=32, validation_data=(X_test, y_test), verbose=1)\n",
        "    test_predictions += model.predict(X_test) / num_models\n",
        "    train_predictions += model.predict(X_train) / num_models\n",
        "    del model\n",
        "\n",
        "train_result = result(train_predictions, y_train)\n",
        "test_result = result(test_predictions, y_test)\n",
        "\n",
        "clear_output(wait=True)\n",
        "\n",
        "result_table(train_result, test_result)"
      ]
    },
    {
      "cell_type": "markdown",
      "metadata": {
        "id": "2KrN0ByUpjoh"
      },
      "source": [
        "### Results so far:"
      ]
    },
    {
      "cell_type": "markdown",
      "metadata": {
        "id": "sG4y-vtNp21A"
      },
      "source": [
        "Smart Padding, 200 epochs: <br/>\n",
        "\n",
        "|       |     MPE |     <1% |     <5% |    <10% |    <15% |    <25% |    <50% |\n",
        "|-------|---------|---------|---------|---------|---------|---------|---------|\n",
        "| __Train__ | 25.7584 | 12.2178 | 48.6192 | 68.9547 | 77.4213 | 84.1134 | 89.5724 |\n",
        "| __Test__  | 14.8679 | 12.262  | 47.4638 | 68.3736 | 76.9246 | 83.9688 | 89.4579 |\n",
        "\n",
        "<br/>\n",
        "\n",
        "Smart Padding, 200 epochs, bigger network:\n",
        "\n",
        "|       |     MPE |    < 1% |    < 5% |   < 10% |   < 15% |   < 25% |   < 50% |\n",
        "|:------|--------:|--------:|--------:|--------:|--------:|--------:|--------:|\n",
        "| Train | 120.766 | 11.4886 | 46.8932 | 65.0569 | 71.7902 | 78.1008 | 85.258  |\n",
        "| Test  | 123.509 | 11.5304 | 46.5384 | 64.6723 | 71.5421 | 77.9807 | 85.0831 |\n",
        "\n",
        "<br/>\n",
        "\n",
        "Smart Padding, 200 epochs, 3 layers:\n",
        "\n",
        "|       |     MPE |    < 1% |    < 5% |   < 10% |   < 15% |   < 25% |   < 50% |\n",
        "|:------|--------:|--------:|--------:|--------:|--------:|--------:|--------:|\n",
        "| __Train__ | 26.3697 | 11.1688 | 46.1676 | 65.0812 | 73.8166 | 81.8968 | 90.6492 |\n",
        "| __Test__  | 18.4464 | 10.8328 | 45.4484 | 64.6819 | 73.8046 | 81.9582 | 90.3735 |\n",
        "\n",
        "<br/>\n",
        "\n",
        "Smart Padding, 200 epochs + Dropout:\n",
        "\n",
        "|       |    MPE |    < 1% |    < 5% |   < 10% |   < 15% |   < 25% |   < 50% |\n",
        "|:------|-------:|--------:|--------:|--------:|--------:|--------:|--------:|\n",
        "| __Train__ | 73.409 | 11.0937 | 47.4976 | 67.6914 | 75.0763 | 80.7922 | 85.3137 |\n",
        "| __Test__  | 74.665 | 10.7117 | 46.4028 | 66.8863 | 74.6815 | 80.5194 | 85.2042 |\n",
        "\n",
        "<br/>\n",
        "\n",
        "XGBoost:\n",
        "\n",
        "\n",
        "|       |     MPE |     < 1% |    < 5% |   < 10% |   < 15% |   < 25% |   < 50% |\n",
        "|:------|--------:|---------:|--------:|--------:|--------:|--------:|--------:|\n",
        "| Train | 184.78  | 17.7204  | 54.7602 | 68.2958 | 74.0879 | 79.3847 | 83.7548 |\n",
        "| Test  | 201.701 |  5.99777 | 29.2428 | 50.5305 | 63.9407 | 75.9459 | 83.2372 |\n",
        "\n",
        "<br/>\n",
        "\n",
        "Smart Padding, 100 epochs: <br/>\n",
        "\n",
        "|       |     MPE |    < 1% |    < 5% |   < 10% |   < 15% |   < 25% |   < 50% |\n",
        "|-------|---------|---------|---------|---------|---------|---------|---------|\n",
        "| __Train__ | 92.1065 | 10.4046 | 44.7953 | 65.7461 | 75.2095 | 83.6979 | 88.8687 |\n",
        "| __Test__  | 91.3669 | 10.4162 | 43.995  | 65.4716 | 75.2386 | 83.7217 | 88.673  |\n",
        "\n",
        "<br/>\n",
        "\n",
        "Naive Padding, 200 epochs: <br/>\n",
        "\n",
        "|       |     MPE |    < 1% |    < 5% |   < 10% |   < 15% |   < 25% |   < 50% |\n",
        "|-------|---------|---------|---------|---------|---------|---------|---------|\n",
        "| __Train__ | 32.7174 | 11.3566 | 47.7895 | 66.8811 | 74.8922 | 82.3014 | 90.1865 |\n",
        "| __Test__  | 34.5956 | 10.0237 | 43.1762 | 64.3041 | 73.8385 | 81.9534 | 90.3105 |\n",
        "\n",
        " <br/>\n",
        "\n",
        " Smart Padding, 100 epochs + min-max cost normalization: <br/>\n",
        "\n",
        "\n",
        "|       |     MPE |    < 1% |    < 5% |   < 10% |   < 15% |   < 25% |   < 50% |\n",
        "|-------|---------|---------|---------|---------|---------|---------|---------|\n",
        "| __Train__ | 89909.8    | 1.15916 | 6.4983  | 14.5155 | 23.062  | 47.2008 | 81.4111 |\n",
        "| __Test__  |    36.5154 | 1.21603 | 6.36113 | 14.6117 | 23.3225 | 47.8611 | 81.779  |\n",
        "\n",
        "<br/>\n",
        "\n",
        "Smart Padding, 100 epochs, leaky-relu:\n",
        "\n",
        "|       |     MPE |    < 1% |    < 5% |   < 10% |   < 15% |   < 25% |   < 50% |\n",
        "|-------|---------|---------|---------|---------|---------|---------|---------|\n",
        "| __Train__ | 579.321 | 8.86265 | 39.1    | 57.8101 | 65.6529 | 72.8173 | 79.2454 |\n",
        "| __Test__  | 593.362 | 8.38622 | 37.9197 | 56.9546 | 64.9532 | 72.4723 | 79.25   |\n",
        "\n",
        "<br/>\n",
        "\n",
        "Smart Padding, 100 epochs, regularization:\n",
        "\n",
        "|       |     MPE |    < 1% |    < 5% |   < 10% |   < 15% |   < 25% |   < 50% |\n",
        "|-------|---------|---------|---------|---------|---------|---------|---------|\n",
        "| __Train__ | 57.2114 | 11.64   | 48.9789 | 70.0363 |  78.251 | 84.4998 | 88.8154 |\n",
        "| __Test__  | 57.8539 | 11.7678 | 48.0839 | 69.2457 |  78.252 | 84.4678 | 88.673  |\n",
        "\n",
        "<br/>\n",
        "\n",
        "Mean result when training by num of Antennas (Ensembling):\n",
        "\n",
        "|       |     MPE |    < 1% |    < 5% |   < 10% |   < 15% |   < 25% |   < 50% |\n",
        "|-------|---------|---------|---------|---------|---------|---------|---------|\n",
        "| __Train__ | 9.6208 | 10.6597   | 45.3978 | 68.3191 |  80.8 | 92.009 | 97.7979 |\n",
        "| __Test__  | 10.427 | 11.7678 | 48.0839 | 69.2457 |  79.515 | 90.7656 | 97.3643  |\n",
        "\n",
        "<br/>\n",
        "\n",
        "Mean of 5 ANN (Ensembling):\n",
        "\n",
        "\n",
        "|       |     MPE |    < 1% |    < 5% |   < 10% |   < 15% |   < 25% |   < 50% |\n",
        "|:------|--------:|--------:|--------:|--------:|--------:|--------:|--------:|\n",
        "| __Train__ | 33.6106 | 11.2016 | 46.5746 | 67.0531 | 75.6589 | 82.8694 | 92.2541 |\n",
        "| __Test__  | 29.6975 | 11.4093 | 46.1557 | 66.7555 | 75.6649 | 83.1307 | 92.4132 |"
      ]
    },
    {
      "cell_type": "code",
      "execution_count": null,
      "metadata": {
        "id": "t5mhvO4fsVRU"
      },
      "outputs": [],
      "source": [
        "### -- This section take from some reason over the system RAM so I used loops -- ###\n",
        "\n",
        "# Make predictions on training and testing data\n",
        "#train_predictions = model.predict(X_train)\n",
        "#test_predictions = model.predict(X_test)\n",
        "\n",
        "# Calculate percentage errors\n",
        "#train_percentage_errors = np.abs((train_predictions - y_train) / y_train) * 100\n",
        "#test_percentage_errors = np.abs((test_predictions - y_test) / y_test) * 100\n",
        "\n",
        "#train_result = ['Train',np.mean(train_percentage_errors)]\n",
        "#test_result = ['Test',np.mean(test_percentage_errors)]\n",
        "\n",
        "#for i in [1,5,10,15,25,50]:\n",
        "#  train_result.append(100 * np.sum(train_percentage_errors <= i)/len(train_percentage_errors))\n",
        "#  test_result.append(100 * np.sum(test_percentage_errors <= i)/len(test_percentage_errors))\n",
        "\n",
        "#clear_output(wait = True)\n",
        "\n",
        "#print(tabulate([train_result, test_result], headers=['MPE', '< 1%','< 5%','< 10%','< 15%','< 25%','< 50%'], tablefmt='orgtbl'))\n"
      ]
    },
    {
      "cell_type": "markdown",
      "metadata": {
        "id": "mpmKdJB6pqAv"
      },
      "source": [
        "### Result per mask"
      ]
    },
    {
      "cell_type": "markdown",
      "metadata": {
        "id": "CMeWLJE4k8Ui"
      },
      "source": [
        "\n",
        "\n",
        "|       |     MPE |    < 1% |    < 5% |   < 10% |   < 15% |   < 25% |   < 50% |\n",
        "|:------|--------:|--------:|--------:|--------:|--------:|--------:|--------:|\n",
        "| Train 800 | 3.16809 | 20.7143 | 79.5536 | 98.2887 | 99.8363 |     100 |     100 |\n",
        "| Test 800 | 3.4475  | 19.0476 | 76.0714 | 96.9643 | 99.8214 |     100 |     100 |\n",
        "| Train 804 | 3.76413 | 17.5208 | 71.3802 | 96.5365 | 99.5885 |  99.974 |     100 |\n",
        "| Test  804 | 4.16011 | 15.5208 | 66.6458 | 94.5833 | 99.3333 | 100     |     100 |\n",
        "| Train 808 | 5.18512 | 13.1771 | 59.2448 | 86.9271 | 96.2413 | 99.5833 | 100     |\n",
        "| Test  808 | 5.76491 | 12.6389 | 54.1667 | 84.0278 | 95.3125 | 98.9931 |  99.9653|\n",
        "| Train 812 | 6.63829 | 13.0398 | 50.7008 | 75.0568 | 90.2083 | 99.1572 | 99.9811 |\n",
        "| Test 812 | 7.25406 | 10.6818 | 46.2121 | 72.0076 | 88.4848 | 98.8258 | 99.9621 |\n",
        "| Train 816 | 13.5061 | 4.0625 | 21.4375 |  43.125 | 62.1667 | 89.25   | 99.0833 |\n",
        "| Test  816 | 14.1243 | 4.75   | 22.0833 |  42     | 61.25   | 86.3333 | 98.5    |\n",
        "| Train 820 | 12.5581 | 4.72222 | 23.9583 | 45.9028 | 65.4514 | 91.0069 | 99.3056 |\n",
        "| Test 820 | 14.0699 | 4.58333 | 20.8333 | 41.6667 | 61.8056 | 86.8056 | 98.6111 |\n",
        "| Train 824 |  9.39521 |  6.45833 | 37.9167 | 66.1458 | 82.3958 |   93.75 | 99.4792 |\n",
        "| Test  824 | 10.813   | 10       | 31.6667 | 55      | 75.4167 |   92.5  | 99.1667 |\n",
        "| Train 828 | 11.3521 | 6.04167 | 28.3333 | 51.9271 | 71.875  | 93.0729 | 99.2187 |\n",
        "| Test  828 | 12.2213 | 6.66667 | 27.2917 | 50.8333 | 70.2083 | 91.0417 | 98.5417 |\n",
        "| Train 832 | 15.7026 | 3.99306 | 18.1597 | 36.25   | 53.75   | 82.9167 | 98.4028 |\n",
        "| Test  832 | 16.6186 | 2.91667 | 18.3333 | 35.9722 | 51.9444 | 80.4167 | 96.9444 |\n",
        "| Train 836 | 14.0333 | 4.53125 | 22.8646 |   41.25 | 56.0938 | 85.2083 | 99.7396 |\n",
        "| Test 836 | 13.7394 | 4.375   | 23.9583 |   43.75 | 61.4583 | 84.1667 | 99.5833 |\n",
        "| Train 840 | 15.5021 | 4.0625  | 16.9792 | 34.7396 | 54.4792 | 84.5312 | 98.3854 |\n",
        "| Test  840 | 16.1836 | 3.54167 | 14.7917 | 32.7083 | 54.5833 | 81.6667 | 98.3333 |\n",
        "| Train 844 | 8.32749 | 7.39583 | 37.1875 | 70.2083 | 88.125  | 96.25   | 99.7917 |\n",
        "| Test  844 | 9.36509 | 8.33333 | 37.5    | 64.1667 | 83.3333 | 94.5833 | 99.5833 |\n",
        "| Train 848 | 30.3286 | 2.22222 | 11.7708  | 21.3542 | 30.3819 | 49.6181 | 79.375  |\n",
        "| Test  848 | 33.1082 | 1.52778 |  9.58333 | 19.3056 | 27.6389 | 43.75   | 77.0833 |\n",
        "| Train 852 | 41.1571 | 1.18056  | 7.63889 | 4.6875 | 22.13611 | 38.8889 | 67.6389 |\n",
        "| Test  852 | 45.329  | 0.555556 | 6.80556 | 13.4722 | 19.1667 | 35.2778 | 63.1944 |\n",
        "| Train 856 | 23.1981 | 2.91667 | 15.5729 | 30      | 42.5521 | 56.4063 | 93.6458 |\n",
        "| Test 856 | 24.9426 | 2.91667 | 15.8333 | 26.6667 | 38.5417 | 52.7083 | 91.25   |\n",
        "| Train 860 | 14.7276 | 5.24306 | 22.5347 | 32.2917 | 43.4028 | 90.3472 |     100 |\n",
        "| Test 860 | 15.4025 | 5.55556 | 20.5556 | 30.6944 | 39.5833 | 88.3333 |     100 |\n",
        "| Train 864 | 7.27732 | 1.97917 | 24.0625 | 80.7292 | 97.9167 |     100 |     100 |\n",
        "| Test 864 | 7.08203 | 3.75    | 29.5833 | 82.0833 | 97.9167 |     100 |     100 |\n",
        "| Train 868 | 12.3138 | 1.40625 | 10.6771  | 38.9063 | 68.1771 | 97.2917 |     100 |\n",
        "| Test 868 | 13.703  | 1.04167 |  6.04167 | 31.25   | 61.4583 | 94.5833 |     100 |\n",
        "| Train 872 | 2.55732 | 25.625  | 88.2292 | 99.7917 |     100 |     100 |     100 |\n",
        "| Test 872 | 3.20567 | 20.8333 | 79.5833 | 99.5833 |     100 |     100 |     100 |\n",
        "| Train 884 | 1.81053 | 33.0208 | 97.6042 |     100 |     100 |     100 |     100 |\n",
        "| Test 884 | 2.36466 | 24.5833 | 90.8333 |     100 |     100 |     100 |     100 |\n",
        "| Train 888 | 1.57759 | 37.9167 | 98.75   |     100 |     100 |     100 |     100 |\n",
        "| Test  888 | 1.80996 | 30      | 96.6667 |     100 |     100 |     100 |     100 |\n",
        "| Train 1024 | 0 | 100 | 100 |     100 |     100 |     100 |     100 |\n",
        "| Test  1024 | 0 | 100 | 100 |     100 |     100 |     100 |     100 |\n"
      ]
    }
  ],
  "metadata": {
    "accelerator": "GPU",
    "colab": {
      "provenance": [],
      "gpuType": "T4"
    },
    "kernelspec": {
      "display_name": "Python 3",
      "name": "python3"
    },
    "language_info": {
      "name": "python"
    }
  },
  "nbformat": 4,
  "nbformat_minor": 0
}