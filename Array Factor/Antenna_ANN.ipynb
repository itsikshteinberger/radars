{
  "cells": [
    {
      "cell_type": "code",
      "execution_count": null,
      "metadata": {
        "colab": {
          "base_uri": "https://localhost:8080/"
        },
        "id": "ZEq3a7e8VYmF",
        "outputId": "79132ca4-895b-4222-d365-d336c3b2f8b9"
      },
      "outputs": [
        {
          "output_type": "stream",
          "name": "stdout",
          "text": [
            "Drive already mounted at /content/drive; to attempt to forcibly remount, call drive.mount(\"/content/drive\", force_remount=True).\n"
          ]
        }
      ],
      "source": [
        "from google.colab import drive\n",
        "drive.mount('/content/drive')\n",
        "\n",
        "import warnings\n",
        "warnings.filterwarnings('ignore')\n",
        "\n",
        "import scipy.io\n",
        "import numpy as np\n",
        "import matplotlib.pyplot as plt\n",
        "from sklearn.cluster import KMeans\n",
        "from IPython.display import clear_output\n",
        "from tqdm import tqdm\n",
        "import tensorflow as tf\n",
        "from tensorflow.keras import regularizers\n",
        "from sklearn.model_selection import train_test_split\n",
        "from tabulate import tabulate\n",
        "\n",
        "%matplotlib inline\n",
        "\n",
        "Cartesian = lambda x,y: np.transpose([np.tile(x, len(y)), np.repeat(y, len(x))])"
      ]
    },
    {
      "cell_type": "markdown",
      "metadata": {
        "id": "VsnQTlhGvvm-"
      },
      "source": [
        "### Useful functions:"
      ]
    },
    {
      "cell_type": "code",
      "execution_count": null,
      "metadata": {
        "id": "qGJtIVtPjEb-"
      },
      "outputs": [],
      "source": [
        "def Freq(Data = None):\n",
        "  YantData = scipy.io.loadmat('/content/drive/MyDrive/AntData/YantData.mat')['YantData'].flatten()\n",
        "  res = np.array([YantData[i].shape[0] for i in range(YantData.shape[0])])\n",
        "  return res\n",
        "\n",
        "def Cluster(Z,Y,plot = True):\n",
        "\n",
        "    data = np.column_stack((Z, Y))\n",
        "    centers = Cartesian(np.array([-25,-8,8,25]),np.array([-25,-8,8,25]))\n",
        "    kmeans = KMeans(n_clusters=16, init=centers)\n",
        "    kmeans.fit(data)\n",
        "\n",
        "    labels = kmeans.labels_\n",
        "    centers = kmeans.cluster_centers_\n",
        "\n",
        "    if plot:\n",
        "      plt.figure(figsize=(12, 7))\n",
        "      plt.title(f\"Num of antennas: {Z.shape[0]}\")\n",
        "      plt.scatter(data[:, 0], data[:, 1], c=labels, cmap='viridis')\n",
        "      plt.scatter(centers[:, 0], centers[:, 1], marker='X',c='red', s=100, label='Centers')\n",
        "      plt.grid()\n",
        "      plt.show()\n",
        "\n",
        "    return data, labels\n",
        "\n",
        "def SmartPadding(Z,Y,i):\n",
        "    # The function get\n",
        "    Z,Y = np.squeeze(Z[i]), np.squeeze(Y[i])\n",
        "    data, labels = Cluster(Z,Y, plot = False)\n",
        "\n",
        "    pad_data = None\n",
        "\n",
        "    for l in range(16):\n",
        "        labeled_data = np.vstack((data[labels == l], np.zeros((64 - np.sum(labels == l), 2))))\n",
        "        pad_data = np.vstack((pad_data, labeled_data)) if pad_data is not None else labeled_data\n",
        "\n",
        "    # does not have to be flatten\n",
        "    return pad_data.flatten()\n",
        "\n",
        "def NaivePadding(Z,Y,i):\n",
        "    data = np.column_stack((np.squeeze(Z[i]), np.squeeze(Y[i])))\n",
        "    zeros = np.zeros((1024-data.shape[0],2))\n",
        "    return np.vstack((data,zeros)).flatten()\n",
        "\n",
        "def NoPadding(Z,Y,i):\n",
        "    data = np.column_stack((np.squeeze(Z[i]), np.squeeze(Y[i])))\n",
        "    return data.flatten()\n",
        "\n",
        "def CreateData(mask = None):\n",
        "    YantData = scipy.io.loadmat('/content/drive/MyDrive/AntData/YantData.mat')['YantData'].flatten()\n",
        "    ZantData = scipy.io.loadmat('/content/drive/MyDrive/AntData/ZantData.mat')['ZantData'].flatten()\n",
        "\n",
        "    cost = scipy.io.loadmat('/content/drive/MyDrive/AntData/cost.mat')['cost'].squeeze()\n",
        "\n",
        "    freq = Freq(YantData)\n",
        "    if mask:\n",
        "      YantData,ZantData,cost = YantData[freq == mask],ZantData[freq == mask],cost[freq == mask]\n",
        "      data_list = [NoPadding(ZantData, YantData, i) for i in tqdm(range(ZantData.shape[0]))]\n",
        "    else:\n",
        "      data_list = [SmartPadding(ZantData, YantData, i) for i in tqdm(range(ZantData.shape[0]))]\n",
        "\n",
        "    del YantData\n",
        "    del ZantData\n",
        "\n",
        "    return np.array(data_list), cost\n"
      ]
    },
    {
      "cell_type": "markdown",
      "metadata": {
        "id": "_REJL4A9wh5Y"
      },
      "source": [
        "### Data Reading:"
      ]
    },
    {
      "cell_type": "code",
      "execution_count": null,
      "metadata": {
        "colab": {
          "base_uri": "https://localhost:8080/"
        },
        "id": "R2G3xxMuU98M",
        "outputId": "9e55f162-4163-43c7-958a-3e5749444084"
      },
      "outputs": [
        {
          "output_type": "stream",
          "name": "stderr",
          "text": [
            "100%|██████████| 103201/103201 [04:59<00:00, 344.47it/s]\n"
          ]
        }
      ],
      "source": [
        "mask = None\n",
        "Data, cost = CreateData(mask = mask)"
      ]
    },
    {
      "cell_type": "markdown",
      "source": [
        "All possible masks: [ 800,  804,  808,  812,  816,  820,  824,  828,  832,  836,  840, 844,  848,  852,  856,  860,  864,  868,  872,  884,  888, 1024]"
      ],
      "metadata": {
        "id": "2SF92oNKfsiS"
      }
    },
    {
      "cell_type": "markdown",
      "metadata": {
        "id": "wYzytTBYv_Rk"
      },
      "source": [
        "### Data Pre-processing:"
      ]
    },
    {
      "cell_type": "code",
      "execution_count": null,
      "metadata": {
        "id": "xf2d0ic4wIjC"
      },
      "outputs": [],
      "source": [
        "#cost = (cost - np.min(cost)) / (np.max(cost) - np.min(cost))\n",
        "#cost += 1e-8"
      ]
    },
    {
      "cell_type": "markdown",
      "metadata": {
        "id": "esKhMuChwNft"
      },
      "source": [
        "### Model training:"
      ]
    },
    {
      "cell_type": "code",
      "execution_count": null,
      "metadata": {
        "colab": {
          "base_uri": "https://localhost:8080/",
          "height": 465
        },
        "id": "IVwFQvVLeUeD",
        "outputId": "eb737f22-3254-4f87-c914-b92c6932ca51"
      },
      "outputs": [
        {
          "output_type": "display_data",
          "data": {
            "text/plain": [
              "<Figure size 640x480 with 1 Axes>"
            ],
            "image/png": "[encoded data removed]"
          },
          "metadata": {}
        }
      ],
      "source": [
        "input_size = mask*2 if mask else 2048\n",
        "\n",
        "# Split the data into training and testing sets\n",
        "X_train, X_test, y_train, y_test = train_test_split(Data, cost, test_size=0.2, random_state=42)\n",
        "\n",
        "del Data\n",
        "del cost\n",
        "\n",
        "# Define the model architecture\n",
        "model = tf.keras.models.Sequential([\n",
        "    tf.keras.layers.Dense(input_size, activation='relu', input_shape=(input_size,)),\n",
        "    tf.keras.layers.Dense(input_size, activation='relu'),\n",
        "    tf.keras.layers.Dense(input_size, activation='relu'),\n",
        "    tf.keras.layers.Dense(1, activation='linear')\n",
        "])\n",
        "\n",
        "# Compile the model\n",
        "optimizer = tf.keras.optimizers.Adam(learning_rate=0.005)\n",
        "model.compile(optimizer = optimizer, loss='mean_squared_error')\n",
        "\n",
        "# Train the model\n",
        "history = model.fit(X_train, y_train, epochs=200, batch_size=32, validation_data=(X_test, y_test))\n",
        "\n",
        "# Get the training and testing loss from the history\n",
        "train_loss = history.history['loss']\n",
        "val_loss = history.history['val_loss']\n",
        "\n",
        "clear_output(wait = True)\n",
        "\n",
        "# Plot the training and testing loss\n",
        "plt.plot(train_loss[1:], label='Training Loss')\n",
        "plt.plot(val_loss[1:], label='Testing Loss')\n",
        "plt.xlabel('Epoch')\n",
        "plt.ylabel('Loss')\n",
        "plt.legend()\n",
        "plt.show()"
      ]
    },
    {
      "cell_type": "markdown",
      "metadata": {
        "id": "mr8u86RFwS-H"
      },
      "source": [
        "### Model evaluating:"
      ]
    },
    {
      "cell_type": "code",
      "execution_count": null,
      "metadata": {
        "id": "px0FOtBF1xRa",
        "colab": {
          "base_uri": "https://localhost:8080/"
        },
        "outputId": "f247d259-845d-45df-9e15-936de8fd2f3c"
      },
      "outputs": [
        {
          "output_type": "stream",
          "name": "stdout",
          "text": [
            "|       |     MPE |    < 1% |    < 5% |   < 10% |   < 15% |   < 25% |   < 50% |\n",
            "|:------|--------:|--------:|--------:|--------:|--------:|--------:|--------:|\n",
            "| Train | 26.3697 | 11.1688 | 46.1676 | 65.0812 | 73.8166 | 81.8968 | 90.6492 |\n",
            "| Test  | 18.4464 | 10.8328 | 45.4484 | 64.6819 | 73.8046 | 81.9582 | 90.3735 |\n"
          ]
        }
      ],
      "source": [
        "def result(preds, reals):\n",
        "  N = preds.shape[0]\n",
        "\n",
        "  res = {'MPE':0,  '< 1%':0, '< 5%':0, '< 10%':0, '< 15%':0, '< 25%':0, '< 50%':0}\n",
        "\n",
        "\n",
        "  for pred, real in zip(preds, reals):\n",
        "    percentage_error = np.abs((pred - real)/ real) * 100\n",
        "    res['MPE'] += (percentage_error / N)[0]\n",
        "    for i in [1,5,10,15,25,50]:\n",
        "      res[f\"< {i}%\"] += 100 / N if percentage_error <= i else 0\n",
        "\n",
        "  return res\n",
        "\n",
        "train_predictions = model.predict(X_train)\n",
        "test_predictions = model.predict(X_test)\n",
        "\n",
        "train_result = result(train_predictions, y_train)\n",
        "test_result = result(test_predictions, y_test)\n",
        "\n",
        "clear_output(wait = True)\n",
        "\n",
        "print(tabulate([['Train']+list(train_result.values()), ['Test']+list(test_result.values())],\n",
        "               headers=list(train_result.keys()), tablefmt='pipe'))"
      ]
    },
    {
      "cell_type": "markdown",
      "metadata": {
        "id": "sG4y-vtNp21A"
      },
      "source": [
        "### Results so far:\n",
        "Smart Padding, 200 epochs: <br/>\n",
        "\n",
        "|       |     MPE |     <1% |     <5% |    <10% |    <15% |    <25% |    <50% |\n",
        "|-------|---------|---------|---------|---------|---------|---------|---------|\n",
        "| __Train__ | 25.7584 | 12.2178 | 48.6192 | 68.9547 | 77.4213 | 84.1134 | 89.5724 |\n",
        "| __Test__  | 14.8679 | 12.262  | 47.4638 | 68.3736 | 76.9246 | 83.9688 | 89.4579 |\n",
        "\n",
        "<br/>\n",
        "\n",
        "Smart Padding, 200 epochs, 3 layers:\n",
        "\n",
        "|       |     MPE |    < 1% |    < 5% |   < 10% |   < 15% |   < 25% |   < 50% |\n",
        "|:------|--------:|--------:|--------:|--------:|--------:|--------:|--------:|\n",
        "| Train | 26.3697 | 11.1688 | 46.1676 | 65.0812 | 73.8166 | 81.8968 | 90.6492 |\n",
        "| Test  | 18.4464 | 10.8328 | 45.4484 | 64.6819 | 73.8046 | 81.9582 | 90.3735 |\n",
        "\n",
        "<br/>\n",
        "\n",
        "Smart Padding, 200 epochs + Dropout:\n",
        "\n",
        "|       |    MPE |    < 1% |    < 5% |   < 10% |   < 15% |   < 25% |   < 50% |\n",
        "|:------|-------:|--------:|--------:|--------:|--------:|--------:|--------:|\n",
        "| Train | 73.409 | 11.0937 | 47.4976 | 67.6914 | 75.0763 | 80.7922 | 85.3137 |\n",
        "| Test  | 74.665 | 10.7117 | 46.4028 | 66.8863 | 74.6815 | 80.5194 | 85.2042 |\n",
        "\n",
        "<br/>\n",
        "\n",
        "Smart Padding, 100 epochs: <br/>\n",
        "\n",
        "|       |     MPE |    < 1% |    < 5% |   < 10% |   < 15% |   < 25% |   < 50% |\n",
        "|-------|---------|---------|---------|---------|---------|---------|---------|\n",
        "| __Train__ | 92.1065 | 10.4046 | 44.7953 | 65.7461 | 75.2095 | 83.6979 | 88.8687 |\n",
        "| __Test__  | 91.3669 | 10.4162 | 43.995  | 65.4716 | 75.2386 | 83.7217 | 88.673  |\n",
        "\n",
        "<br/>\n",
        "\n",
        "Naive Padding, 200 epochs: <br/>\n",
        "\n",
        "|       |     MPE |    < 1% |    < 5% |   < 10% |   < 15% |   < 25% |   < 50% |\n",
        "|-------|---------|---------|---------|---------|---------|---------|---------|\n",
        "| __Train__ | 32.7174 | 11.3566 | 47.7895 | 66.8811 | 74.8922 | 82.3014 | 90.1865 |\n",
        "| __Test__  | 34.5956 | 10.0237 | 43.1762 | 64.3041 | 73.8385 | 81.9534 | 90.3105 |\n",
        "\n",
        " <br/>\n",
        "\n",
        " Smart Padding, 100 epochs + min-max cost normalization: <br/>\n",
        "\n",
        "\n",
        "|       |     MPE |    < 1% |    < 5% |   < 10% |   < 15% |   < 25% |   < 50% |\n",
        "|-------|---------|---------|---------|---------|---------|---------|---------|\n",
        "| __Train__ | 89909.8    | 1.15916 | 6.4983  | 14.5155 | 23.062  | 47.2008 | 81.4111 |\n",
        "| __Test__  |    36.5154 | 1.21603 | 6.36113 | 14.6117 | 23.3225 | 47.8611 | 81.779  |\n",
        "\n",
        "<br/>\n",
        "\n",
        "Smart Padding, 100 epochs, leaky-relu:\n",
        "\n",
        "|       |     MPE |    < 1% |    < 5% |   < 10% |   < 15% |   < 25% |   < 50% |\n",
        "|-------|---------|---------|---------|---------|---------|---------|---------|\n",
        "| __Train__ | 579.321 | 8.86265 | 39.1    | 57.8101 | 65.6529 | 72.8173 | 79.2454 |\n",
        "| __Test__  | 593.362 | 8.38622 | 37.9197 | 56.9546 | 64.9532 | 72.4723 | 79.25   |\n",
        "\n",
        "<br/>\n",
        "\n",
        "Smart Padding, 100 epochs, regularization:\n",
        "\n",
        "|       |     MPE |    < 1% |    < 5% |   < 10% |   < 15% |   < 25% |   < 50% |\n",
        "|-------|---------|---------|---------|---------|---------|---------|---------|\n",
        "| __Train__ | 57.2114 | 11.64   | 48.9789 | 70.0363 |  78.251 | 84.4998 | 88.8154 |\n",
        "| __Test__  | 57.8539 | 11.7678 | 48.0839 | 69.2457 |  78.252 | 84.4678 | 88.673  |\n",
        "\n",
        "<br/>\n",
        "\n",
        "Mean result when training by num of Antennas (Ensembling):\n",
        "\n",
        "|       |     MPE |    < 1% |    < 5% |   < 10% |   < 15% |   < 25% |   < 50% |\n",
        "|-------|---------|---------|---------|---------|---------|---------|---------|\n",
        "| __Train__ | 9.6208 | 10.6597   | 45.3978 | 68.3191 |  80.8 | 92.009 | 97.7979 |\n",
        "| __Test__  | 10.427 | 11.7678 | 48.0839 | 69.2457 |  79.515 | 90.7656 | 97.3643  |\n",
        "\n"
      ]
    },
    {
      "cell_type": "code",
      "execution_count": null,
      "metadata": {
        "id": "t5mhvO4fsVRU"
      },
      "outputs": [],
      "source": [
        "### -- This section take from some reason over the system RAM so I used loops -- ###\n",
        "\n",
        "# Make predictions on training and testing data\n",
        "#train_predictions = model.predict(X_train)\n",
        "#test_predictions = model.predict(X_test)\n",
        "\n",
        "# Calculate percentage errors\n",
        "#train_percentage_errors = np.abs((train_predictions - y_train) / y_train) * 100\n",
        "#test_percentage_errors = np.abs((test_predictions - y_test) / y_test) * 100\n",
        "\n",
        "#train_result = ['Train',np.mean(train_percentage_errors)]\n",
        "#test_result = ['Test',np.mean(test_percentage_errors)]\n",
        "\n",
        "#for i in [1,5,10,15,25,50]:\n",
        "#  train_result.append(100 * np.sum(train_percentage_errors <= i)/len(train_percentage_errors))\n",
        "#  test_result.append(100 * np.sum(test_percentage_errors <= i)/len(test_percentage_errors))\n",
        "\n",
        "#clear_output(wait = True)\n",
        "\n",
        "#print(tabulate([train_result, test_result], headers=['MPE', '< 1%','< 5%','< 10%','< 15%','< 25%','< 50%'], tablefmt='orgtbl'))\n"
      ]
    },
    {
      "cell_type": "markdown",
      "source": [
        "### Result per mask\n",
        "\n",
        "|       |     MPE |    < 1% |    < 5% |   < 10% |   < 15% |   < 25% |   < 50% |\n",
        "|:------|--------:|--------:|--------:|--------:|--------:|--------:|--------:|\n",
        "| Train 800 | 3.16809 | 20.7143 | 79.5536 | 98.2887 | 99.8363 |     100 |     100 |\n",
        "| Test 800 | 3.4475  | 19.0476 | 76.0714 | 96.9643 | 99.8214 |     100 |     100 |\n",
        "| Train 804 | 3.76413 | 17.5208 | 71.3802 | 96.5365 | 99.5885 |  99.974 |     100 |\n",
        "| Test  804 | 4.16011 | 15.5208 | 66.6458 | 94.5833 | 99.3333 | 100     |     100 |\n",
        "| Train 808 | 5.18512 | 13.1771 | 59.2448 | 86.9271 | 96.2413 | 99.5833 | 100     |\n",
        "| Test  808 | 5.76491 | 12.6389 | 54.1667 | 84.0278 | 95.3125 | 98.9931 |  99.9653|\n",
        "| Train 812 | 6.63829 | 13.0398 | 50.7008 | 75.0568 | 90.2083 | 99.1572 | 99.9811 |\n",
        "| Test 812 | 7.25406 | 10.6818 | 46.2121 | 72.0076 | 88.4848 | 98.8258 | 99.9621 |\n",
        "| Train 816 | 13.5061 | 4.0625 | 21.4375 |  43.125 | 62.1667 | 89.25   | 99.0833 |\n",
        "| Test  816 | 14.1243 | 4.75   | 22.0833 |  42     | 61.25   | 86.3333 | 98.5    |\n",
        "| Train 820 | 12.5581 | 4.72222 | 23.9583 | 45.9028 | 65.4514 | 91.0069 | 99.3056 |\n",
        "| Test 820 | 14.0699 | 4.58333 | 20.8333 | 41.6667 | 61.8056 | 86.8056 | 98.6111 |\n",
        "| Train 824 |  9.39521 |  6.45833 | 37.9167 | 66.1458 | 82.3958 |   93.75 | 99.4792 |\n",
        "| Test  824 | 10.813   | 10       | 31.6667 | 55      | 75.4167 |   92.5  | 99.1667 |\n",
        "| Train 828 | 11.3521 | 6.04167 | 28.3333 | 51.9271 | 71.875  | 93.0729 | 99.2187 |\n",
        "| Test  828 | 12.2213 | 6.66667 | 27.2917 | 50.8333 | 70.2083 | 91.0417 | 98.5417 |\n",
        "| Train 832 | 15.7026 | 3.99306 | 18.1597 | 36.25   | 53.75   | 82.9167 | 98.4028 |\n",
        "| Test  832 | 16.6186 | 2.91667 | 18.3333 | 35.9722 | 51.9444 | 80.4167 | 96.9444 |\n",
        "| Train 836 | 14.0333 | 4.53125 | 22.8646 |   41.25 | 56.0938 | 85.2083 | 99.7396 |\n",
        "| Test 836 | 13.7394 | 4.375   | 23.9583 |   43.75 | 61.4583 | 84.1667 | 99.5833 |\n",
        "| Train 840 | 15.5021 | 4.0625  | 16.9792 | 34.7396 | 54.4792 | 84.5312 | 98.3854 |\n",
        "| Test  840 | 16.1836 | 3.54167 | 14.7917 | 32.7083 | 54.5833 | 81.6667 | 98.3333 |\n",
        "| Train 844 | 8.32749 | 7.39583 | 37.1875 | 70.2083 | 88.125  | 96.25   | 99.7917 |\n",
        "| Test  844 | 9.36509 | 8.33333 | 37.5    | 64.1667 | 83.3333 | 94.5833 | 99.5833 |\n",
        "| Train 848 | 30.3286 | 2.22222 | 11.7708  | 21.3542 | 30.3819 | 49.6181 | 79.375  |\n",
        "| Test  848 | 33.1082 | 1.52778 |  9.58333 | 19.3056 | 27.6389 | 43.75   | 77.0833 |\n",
        "| Train 852 | 41.1571 | 1.18056  | 7.63889 | 4.6875 | 22.13611 | 38.8889 | 67.6389 |\n",
        "| Test  852 | 45.329  | 0.555556 | 6.80556 | 13.4722 | 19.1667 | 35.2778 | 63.1944 |\n",
        "| Train 856 | 23.1981 | 2.91667 | 15.5729 | 30      | 42.5521 | 56.4063 | 93.6458 |\n",
        "| Test 856 | 24.9426 | 2.91667 | 15.8333 | 26.6667 | 38.5417 | 52.7083 | 91.25   |\n",
        "| Train 860 | 14.7276 | 5.24306 | 22.5347 | 32.2917 | 43.4028 | 90.3472 |     100 |\n",
        "| Test 860 | 15.4025 | 5.55556 | 20.5556 | 30.6944 | 39.5833 | 88.3333 |     100 |\n",
        "| Train 864 | 7.27732 | 1.97917 | 24.0625 | 80.7292 | 97.9167 |     100 |     100 |\n",
        "| Test 864 | 7.08203 | 3.75    | 29.5833 | 82.0833 | 97.9167 |     100 |     100 |\n",
        "| Train 868 | 12.3138 | 1.40625 | 10.6771  | 38.9063 | 68.1771 | 97.2917 |     100 |\n",
        "| Test 868 | 13.703  | 1.04167 |  6.04167 | 31.25   | 61.4583 | 94.5833 |     100 |\n",
        "| Train 872 | 2.55732 | 25.625  | 88.2292 | 99.7917 |     100 |     100 |     100 |\n",
        "| Test 872 | 3.20567 | 20.8333 | 79.5833 | 99.5833 |     100 |     100 |     100 |\n",
        "| Train 884 | 1.81053 | 33.0208 | 97.6042 |     100 |     100 |     100 |     100 |\n",
        "| Test 884 | 2.36466 | 24.5833 | 90.8333 |     100 |     100 |     100 |     100 |\n",
        "| Train 888 | 1.57759 | 37.9167 | 98.75   |     100 |     100 |     100 |     100 |\n",
        "| Test  888 | 1.80996 | 30      | 96.6667 |     100 |     100 |     100 |     100 |\n",
        "| Train 1024 | 0 | 100 | 100 |     100 |     100 |     100 |     100 |\n",
        "| Test  1024 | 0 | 100 | 100 |     100 |     100 |     100 |     100 |\n"
      ],
      "metadata": {
        "id": "CMeWLJE4k8Ui"
      }
    }
  ],
  "metadata": {
    "accelerator": "GPU",
    "colab": {
      "provenance": [],
      "gpuType": "T4"
    },
    "kernelspec": {
      "display_name": "Python 3",
      "name": "python3"
    },
    "language_info": {
      "name": "python"
    }
  },
  "nbformat": 4,
  "nbformat_minor": 0
}