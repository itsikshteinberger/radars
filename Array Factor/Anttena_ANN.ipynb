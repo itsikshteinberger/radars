{
  "nbformat": 4,
  "nbformat_minor": 0,
  "metadata": {
    "colab": {
      "provenance": [],
      "gpuType": "T4"
    },
    "kernelspec": {
      "name": "python3",
      "display_name": "Python 3"
    },
    "language_info": {
      "name": "python"
    },
    "accelerator": "GPU"
  },
  "cells": [
    {
      "cell_type": "code",
      "execution_count": 19,
      "metadata": {
        "colab": {
          "base_uri": "https://localhost:8080/"
        },
        "id": "ZEq3a7e8VYmF",
        "outputId": "eda644f3-ddf6-4fae-dc1f-a89a8af3d22c"
      },
      "outputs": [
        {
          "output_type": "stream",
          "name": "stdout",
          "text": [
            "Drive already mounted at /content/drive; to attempt to forcibly remount, call drive.mount(\"/content/drive\", force_remount=True).\n"
          ]
        }
      ],
      "source": [
        "from google.colab import drive\n",
        "drive.mount('/content/drive')\n",
        "\n",
        "import warnings\n",
        "warnings.filterwarnings('ignore')\n",
        "\n",
        "import scipy.io\n",
        "import numpy as np\n",
        "import matplotlib.pyplot as plt\n",
        "from sklearn.cluster import KMeans\n",
        "from IPython.display import clear_output\n",
        "from tqdm import tqdm\n",
        "import tensorflow as tf\n",
        "from sklearn.model_selection import train_test_split\n",
        "from tabulate import tabulate\n",
        "\n",
        "%matplotlib inline\n",
        "\n",
        "Cartesian = lambda x,y: np.transpose([np.tile(x, len(y)), np.repeat(y, len(x))])"
      ]
    },
    {
      "cell_type": "code",
      "source": [
        "def Cluster(Z,Y,plot = True):\n",
        "\n",
        "    data = np.column_stack((Z, Y))\n",
        "    centers = Cartesian(np.array([-25,-8,8,25]),np.array([-25,-8,8,25]))\n",
        "    kmeans = KMeans(n_clusters=16, init=centers)\n",
        "    kmeans.fit(data)\n",
        "\n",
        "    labels = kmeans.labels_\n",
        "    centers = kmeans.cluster_centers_\n",
        "\n",
        "    if plot:\n",
        "      plt.figure(figsize=(12, 7)) \n",
        "      plt.title(f\"Num of antennas: {Z.shape[0]}\") \n",
        "      plt.scatter(data[:, 0], data[:, 1], c=labels, cmap='viridis') \n",
        "      plt.scatter(centers[:, 0], centers[:, 1], marker='X',c='red', s=100, label='Centers') \n",
        "      plt.grid() \n",
        "      plt.show() \n",
        "\n",
        "    return data, labels\n",
        "\n",
        "def SmartPadding(Z,Y,i):\n",
        "    # The function get \n",
        "    Z,Y = np.squeeze(Z[i][0]), np.squeeze(Y[i][0])\n",
        "    data, labels = Cluster(Z,Y, plot = False)\n",
        "    \n",
        "    pad_data = None\n",
        "\n",
        "    for l in range(16):\n",
        "        labeled_data = np.vstack((data[labels == l], np.zeros((64 - np.sum(labels == l), 2))))\n",
        "        pad_data = np.vstack((pad_data, labeled_data)) if pad_data is not None else labeled_data\n",
        "\n",
        "    # does not have to be flatten   \n",
        "    return pad_data.flatten()\n",
        "\n",
        "def NaivePadding(Z,Y,i):\n",
        "    data = np.column_stack(np.squeeze(Z[i][0]), np.squeeze(Y[i][0]))\n",
        "    zeros = np.zeros((2048-data.shape[0],2))\n",
        "    return np.vstack((data,zeros)).flatten()\n",
        "\n",
        "def CreateData():\n",
        "    YantData = scipy.io.loadmat('/content/drive/MyDrive/AntData/YantData.mat')['YantData']\n",
        "    ZantData = scipy.io.loadmat('/content/drive/MyDrive/AntData/ZantData.mat')['ZantData']\n",
        "\n",
        "    data_list = [SmartPadding(ZantData, YantData, i) for i in tqdm(range(ZantData.shape[0]))]\n",
        "\n",
        "    return np.array(data_list)\n"
      ],
      "metadata": {
        "id": "qGJtIVtPjEb-"
      },
      "execution_count": 2,
      "outputs": []
    },
    {
      "cell_type": "code",
      "source": [
        "Data = CreateData()\n",
        "cost = scipy.io.loadmat('/content/drive/MyDrive/AntData/cost.mat')['cost']"
      ],
      "metadata": {
        "colab": {
          "base_uri": "https://localhost:8080/"
        },
        "id": "R2G3xxMuU98M",
        "outputId": "3a19659e-55fa-4f6a-9e48-ffcbd607318f"
      },
      "execution_count": 3,
      "outputs": [
        {
          "output_type": "stream",
          "name": "stderr",
          "text": [
            "100%|██████████| 103201/103201 [04:56<00:00, 347.60it/s]\n"
          ]
        }
      ]
    },
    {
      "cell_type": "code",
      "source": [
        "# Split the data into training and testing sets\n",
        "X_train, X_test, y_train, y_test = train_test_split(Data, cost, test_size=0.2, random_state=42)\n",
        "\n",
        "# Define the model architecture\n",
        "model = tf.keras.models.Sequential([\n",
        "    tf.keras.layers.Dense(2048, activation='relu', input_shape=(2048,)),  \n",
        "    tf.keras.layers.Dense(2048, activation='relu'),\n",
        "    tf.keras.layers.Dense(1, activation='linear')\n",
        "])\n",
        "\n",
        "# Compile the model\n",
        "model.compile(optimizer='adam', loss='mean_squared_error')\n",
        "\n",
        "# Train the model\n",
        "history = model.fit(X_train, y_train, epochs=200, batch_size=32, validation_data=(X_test, y_test))\n",
        "\n",
        "# Get the training and testing loss from the history\n",
        "train_loss = history.history['loss']\n",
        "val_loss = history.history['val_loss']\n",
        "\n",
        "clear_output(wait = True)\n",
        "\n",
        "# Plot the training and testing loss\n",
        "plt.plot(train_loss, label='Training Loss')\n",
        "plt.plot(val_loss, label='Testing Loss')\n",
        "plt.xlabel('Epoch')\n",
        "plt.ylabel('Loss')\n",
        "plt.legend()\n",
        "plt.show()"
      ],
      "metadata": {
        "colab": {
          "base_uri": "https://localhost:8080/",
          "height": 465
        },
        "id": "IVwFQvVLeUeD",
        "outputId": "fa97a513-9e80-49c3-8e8c-71248b406be2"
      },
      "execution_count": 4,
      "outputs": [
        {
          "output_type": "display_data",
          "data": {
            "text/plain": [
              "<Figure size 640x480 with 1 Axes>"
            ],
            "image/png": "[encoded data removed]"
          },
          "metadata": {}
        }
      ]
    },
    {
      "cell_type": "code",
      "source": [
        "# Make predictions on training and testing data\n",
        "train_predictions = model.predict(X_train)\n",
        "test_predictions = model.predict(X_test)\n",
        "\n",
        "# Calculate percentage errors\n",
        "train_percentage_errors = np.abs((train_predictions - y_train) / y_train) * 100\n",
        "test_percentage_errors = np.abs((test_predictions - y_test) / y_test) * 100\n",
        "\n",
        "train_result = ['Train',np.mean(train_percentage_errors)]\n",
        "test_result = ['Test',np.mean(test_percentage_errors)]\n",
        "\n",
        "for i in [1,5,10,15,25,50]:\n",
        "  train_result.append(100 * np.sum(train_percentage_errors <= i)/len(train_percentage_errors))\n",
        "  test_result.append(100 * np.sum(test_percentage_errors <= i)/len(test_percentage_errors))\n",
        "\n",
        "clear_output(wait = True)\n",
        "\n",
        "print(tabulate([train_result, test_result], headers=['MPE', '< 1%','< 5%','< 10%','< 15%','< 25%','< 50%'], tablefmt='orgtbl'))"
      ],
      "metadata": {
        "colab": {
          "base_uri": "https://localhost:8080/"
        },
        "id": "t5mhvO4fsVRU",
        "outputId": "f1c636b6-fc4c-40fa-8287-3a3c4afda998"
      },
      "execution_count": 24,
      "outputs": [
        {
          "output_type": "stream",
          "name": "stdout",
          "text": [
            "|       |     MPE |     <1% |     <5% |    <10% |    <15% |    <25% |    <50% |\n",
            "|-------+---------+---------+---------+---------+---------+---------+---------|\n",
            "| Train | 25.7584 | 11.6667 | 48.6192 | 68.9547 | 77.4213 | 84.1134 | 89.5724 |\n",
            "| Test  | 14.8679 | 11.482  | 47.4638 | 68.3736 | 76.9246 | 83.9688 | 89.4579 |\n"
          ]
        }
      ]
    }
  ]
}